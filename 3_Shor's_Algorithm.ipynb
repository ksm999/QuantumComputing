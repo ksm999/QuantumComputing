{
  "nbformat": 4,
  "nbformat_minor": 0,
  "metadata": {
    "colab": {
      "provenance": [],
      "authorship_tag": "ABX9TyOEEPIFKRd4qbWW2spE4cSN",
      "include_colab_link": true
    },
    "kernelspec": {
      "name": "python3",
      "display_name": "Python 3"
    },
    "language_info": {
      "name": "python"
    }
  },
  "cells": [
    {
      "cell_type": "markdown",
      "metadata": {
        "id": "view-in-github",
        "colab_type": "text"
      },
      "source": [
        "<a href=\"https://colab.research.google.com/github/ksm999/QuantumComputing/blob/main/3_Shor's_Algorithm.ipynb\" target=\"_parent\"><img src=\"https://colab.research.google.com/assets/colab-badge.svg\" alt=\"Open In Colab\"/></a>"
      ]
    },
    {
      "cell_type": "code",
      "execution_count": 1,
      "metadata": {
        "colab": {
          "base_uri": "https://localhost:8080/"
        },
        "id": "32_CdcvD8UwH",
        "outputId": "b4315979-9632-4eaf-e108-8043aae094bc"
      },
      "outputs": [
        {
          "output_type": "stream",
          "name": "stdout",
          "text": [
            "Collecting qiskit\n",
            "  Downloading qiskit-0.44.1-py3-none-any.whl (8.2 kB)\n",
            "Collecting qiskit-terra==0.25.1 (from qiskit)\n",
            "  Downloading qiskit_terra-0.25.1-cp38-abi3-manylinux_2_17_x86_64.manylinux2014_x86_64.whl (6.1 MB)\n",
            "\u001b[2K     \u001b[90m━━━━━━━━━━━━━━━━━━━━━━━━━━━━━━━━━━━━━━━━\u001b[0m \u001b[32m6.1/6.1 MB\u001b[0m \u001b[31m17.2 MB/s\u001b[0m eta \u001b[36m0:00:00\u001b[0m\n",
            "\u001b[?25hCollecting rustworkx>=0.13.0 (from qiskit-terra==0.25.1->qiskit)\n",
            "  Downloading rustworkx-0.13.1-cp310-cp310-manylinux_2_17_x86_64.manylinux2014_x86_64.whl (2.0 MB)\n",
            "\u001b[2K     \u001b[90m━━━━━━━━━━━━━━━━━━━━━━━━━━━━━━━━━━━━━━━━\u001b[0m \u001b[32m2.0/2.0 MB\u001b[0m \u001b[31m39.4 MB/s\u001b[0m eta \u001b[36m0:00:00\u001b[0m\n",
            "\u001b[?25hRequirement already satisfied: numpy>=1.17 in /usr/local/lib/python3.10/dist-packages (from qiskit-terra==0.25.1->qiskit) (1.23.5)\n",
            "Collecting ply>=3.10 (from qiskit-terra==0.25.1->qiskit)\n",
            "  Downloading ply-3.11-py2.py3-none-any.whl (49 kB)\n",
            "\u001b[2K     \u001b[90m━━━━━━━━━━━━━━━━━━━━━━━━━━━━━━━━━━━━━━━━\u001b[0m \u001b[32m49.6/49.6 kB\u001b[0m \u001b[31m5.4 MB/s\u001b[0m eta \u001b[36m0:00:00\u001b[0m\n",
            "\u001b[?25hRequirement already satisfied: psutil>=5 in /usr/local/lib/python3.10/dist-packages (from qiskit-terra==0.25.1->qiskit) (5.9.5)\n",
            "Requirement already satisfied: scipy>=1.5 in /usr/local/lib/python3.10/dist-packages (from qiskit-terra==0.25.1->qiskit) (1.10.1)\n",
            "Requirement already satisfied: sympy>=1.3 in /usr/local/lib/python3.10/dist-packages (from qiskit-terra==0.25.1->qiskit) (1.12)\n",
            "Collecting dill>=0.3 (from qiskit-terra==0.25.1->qiskit)\n",
            "  Downloading dill-0.3.7-py3-none-any.whl (115 kB)\n",
            "\u001b[2K     \u001b[90m━━━━━━━━━━━━━━━━━━━━━━━━━━━━━━━━━━━━━━\u001b[0m \u001b[32m115.3/115.3 kB\u001b[0m \u001b[31m14.5 MB/s\u001b[0m eta \u001b[36m0:00:00\u001b[0m\n",
            "\u001b[?25hRequirement already satisfied: python-dateutil>=2.8.0 in /usr/local/lib/python3.10/dist-packages (from qiskit-terra==0.25.1->qiskit) (2.8.2)\n",
            "Collecting stevedore>=3.0.0 (from qiskit-terra==0.25.1->qiskit)\n",
            "  Downloading stevedore-5.1.0-py3-none-any.whl (49 kB)\n",
            "\u001b[2K     \u001b[90m━━━━━━━━━━━━━━━━━━━━━━━━━━━━━━━━━━━━━━━━\u001b[0m \u001b[32m49.6/49.6 kB\u001b[0m \u001b[31m6.5 MB/s\u001b[0m eta \u001b[36m0:00:00\u001b[0m\n",
            "\u001b[?25hCollecting symengine<0.10,>=0.9 (from qiskit-terra==0.25.1->qiskit)\n",
            "  Downloading symengine-0.9.2-cp310-cp310-manylinux2010_x86_64.whl (37.5 MB)\n",
            "\u001b[2K     \u001b[90m━━━━━━━━━━━━━━━━━━━━━━━━━━━━━━━━━━━━━━━━\u001b[0m \u001b[32m37.5/37.5 MB\u001b[0m \u001b[31m36.1 MB/s\u001b[0m eta \u001b[36m0:00:00\u001b[0m\n",
            "\u001b[?25hRequirement already satisfied: typing-extensions in /usr/local/lib/python3.10/dist-packages (from qiskit-terra==0.25.1->qiskit) (4.7.1)\n",
            "Requirement already satisfied: six>=1.5 in /usr/local/lib/python3.10/dist-packages (from python-dateutil>=2.8.0->qiskit-terra==0.25.1->qiskit) (1.16.0)\n",
            "Collecting pbr!=2.1.0,>=2.0.0 (from stevedore>=3.0.0->qiskit-terra==0.25.1->qiskit)\n",
            "  Downloading pbr-5.11.1-py2.py3-none-any.whl (112 kB)\n",
            "\u001b[2K     \u001b[90m━━━━━━━━━━━━━━━━━━━━━━━━━━━━━━━━━━━━━━\u001b[0m \u001b[32m112.7/112.7 kB\u001b[0m \u001b[31m15.0 MB/s\u001b[0m eta \u001b[36m0:00:00\u001b[0m\n",
            "\u001b[?25hRequirement already satisfied: mpmath>=0.19 in /usr/local/lib/python3.10/dist-packages (from sympy>=1.3->qiskit-terra==0.25.1->qiskit) (1.3.0)\n",
            "Installing collected packages: ply, symengine, rustworkx, pbr, dill, stevedore, qiskit-terra, qiskit\n",
            "Successfully installed dill-0.3.7 pbr-5.11.1 ply-3.11 qiskit-0.44.1 qiskit-terra-0.25.1 rustworkx-0.13.1 stevedore-5.1.0 symengine-0.9.2\n"
          ]
        }
      ],
      "source": [
        "!pip install qiskit"
      ]
    },
    {
      "cell_type": "code",
      "source": [
        "!pip install pylatexenc"
      ],
      "metadata": {
        "colab": {
          "base_uri": "https://localhost:8080/"
        },
        "id": "zDfDjcDg8WMu",
        "outputId": "ae63c978-eb10-4a9e-de56-2f0eb8992025"
      },
      "execution_count": 2,
      "outputs": [
        {
          "output_type": "stream",
          "name": "stdout",
          "text": [
            "Collecting pylatexenc\n",
            "  Downloading pylatexenc-2.10.tar.gz (162 kB)\n",
            "\u001b[?25l     \u001b[90m━━━━━━━━━━━━━━━━━━━━━━━━━━━━━━━━━━━━━━━━\u001b[0m \u001b[32m0.0/162.6 kB\u001b[0m \u001b[31m?\u001b[0m eta \u001b[36m-:--:--\u001b[0m\r\u001b[2K     \u001b[91m━━━━━━━━━━━━━━━━━━━━━━━━━━━━━\u001b[0m\u001b[90m╺\u001b[0m\u001b[90m━━━━━━━━━\u001b[0m \u001b[32m122.9/162.6 kB\u001b[0m \u001b[31m3.5 MB/s\u001b[0m eta \u001b[36m0:00:01\u001b[0m\r\u001b[2K     \u001b[90m━━━━━━━━━━━━━━━━━━━━━━━━━━━━━━━━━━━━━━━\u001b[0m \u001b[32m162.6/162.6 kB\u001b[0m \u001b[31m2.6 MB/s\u001b[0m eta \u001b[36m0:00:00\u001b[0m\n",
            "\u001b[?25h  Preparing metadata (setup.py) ... \u001b[?25l\u001b[?25hdone\n",
            "Building wheels for collected packages: pylatexenc\n",
            "  Building wheel for pylatexenc (setup.py) ... \u001b[?25l\u001b[?25hdone\n",
            "  Created wheel for pylatexenc: filename=pylatexenc-2.10-py3-none-any.whl size=136817 sha256=7782f7cba0a094cf572958882fbdfc7ff0e7fdee1df9233d3081aba97fb272e2\n",
            "  Stored in directory: /root/.cache/pip/wheels/d3/31/8b/e09b0386afd80cfc556c00408c9aeea5c35c4d484a9c762fd5\n",
            "Successfully built pylatexenc\n",
            "Installing collected packages: pylatexenc\n",
            "Successfully installed pylatexenc-2.10\n"
          ]
        }
      ]
    },
    {
      "cell_type": "code",
      "source": [
        "import qiskit\n",
        "from qiskit import QuantumCircuit\n",
        "from qiskit.visualization import plot_histogram, plot_bloch_multivector\n",
        "from qiskit.quantum_info import Statevector\n",
        "from qiskit import BasicAer, execute"
      ],
      "metadata": {
        "id": "Z_DO_szS8doS"
      },
      "execution_count": 7,
      "outputs": []
    },
    {
      "cell_type": "code",
      "source": [
        "import math\n",
        "import random\n",
        "\n",
        "def factor3(N):\n",
        "  while(True):\n",
        "    a = random.randint(2, N-1)\n",
        "    gcd = math.gcd(N, a)\n",
        "    if (gcd != 1):\n",
        "      return gcd, N // gcd\n",
        "\n",
        "    r = findPeriod(N, a)\n",
        "    if (r % 2 != 0):\n",
        "      continue\n",
        "\n",
        "    gcd1 = math.gcd(N, a**(r//2)+1)\n",
        "    gcd2 = math.gcd(N, a**(r//2)-1)\n",
        "    if (gcd1 == 1 or gcd2 == 1):\n",
        "      continue\n",
        "    return gcd1, gcd2\n",
        "\n",
        "def findPeriod(N, a):\n",
        "  for x in range(1, N):\n",
        "    if ((a**x) % N == 1):\n",
        "      return x\n",
        "  return -1"
      ],
      "metadata": {
        "id": "ICIQLDphViBG"
      },
      "execution_count": 14,
      "outputs": []
    },
    {
      "cell_type": "code",
      "source": [
        "factor3(2021)"
      ],
      "metadata": {
        "colab": {
          "base_uri": "https://localhost:8080/"
        },
        "id": "P9f9SfNeWxae",
        "outputId": "5628f42f-93f2-480c-cffe-7353d30ad7af"
      },
      "execution_count": 15,
      "outputs": [
        {
          "output_type": "execute_result",
          "data": {
            "text/plain": [
              "(43, 47)"
            ]
          },
          "metadata": {},
          "execution_count": 15
        }
      ]
    },
    {
      "cell_type": "code",
      "source": [
        "def findPeriodByModPow(N,a):\n",
        "  for x in range(1, N):\n",
        "    if (mod_pow(a, x, N) == 1):\n",
        "      return x\n",
        "    return -1\n",
        "\n",
        "def mod_pow(a, x, N):\n",
        "  y = 1\n",
        "  while (x > 0):\n",
        "    if ((x & 1) == 1):\n",
        "      y = (y * a) % N\n",
        "    x = x >> 1\n",
        "    a = (a * a) % N\n",
        "  return y\n",
        "\n",
        "def factorize3(N):\n",
        "  while(True):\n",
        "    a = random.randint(2, N-1)\n",
        "    gcd = math.gcd(N, a)\n",
        "    if (gcd != 1):\n",
        "      return gcd, N // gcd\n",
        "    r = findPeriodByModPow(N, a)\n",
        "    if (r % 2 != 0):\n",
        "      continue\n",
        "    gcd1 = math.gcd(N, a**(r//2) +1)\n",
        "    gcd2 = math.gcd(N, a**(r//2) -1)\n",
        "    if (gcd==1 or gcd2==1):\n",
        "      continue\n",
        "    return gcd1, gcd2"
      ],
      "metadata": {
        "id": "lgYo7SOlXceb"
      },
      "execution_count": 17,
      "outputs": []
    },
    {
      "cell_type": "code",
      "source": [
        "factorize3(988027)"
      ],
      "metadata": {
        "colab": {
          "base_uri": "https://localhost:8080/"
        },
        "id": "KftNTOKOYV-p",
        "outputId": "c3e55118-8df8-497c-abd6-cd0b441dfa70"
      },
      "execution_count": 19,
      "outputs": [
        {
          "output_type": "execute_result",
          "data": {
            "text/plain": [
              "(997, 991)"
            ]
          },
          "metadata": {},
          "execution_count": 19
        }
      ]
    }
  ]
}