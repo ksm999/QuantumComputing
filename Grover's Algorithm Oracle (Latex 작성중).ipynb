{
 "cells": [
  {
   "cell_type": "markdown",
   "id": "c7c47cfc",
   "metadata": {},
   "source": [
    "# Grover Algorithm"
   ]
  },
  {
   "cell_type": "markdown",
   "id": "352fbd96",
   "metadata": {},
   "source": [
    "## n = 2 qubit 에서 each state 마다 oracle matrix 을 작성"
   ]
  },
  {
   "cell_type": "markdown",
   "id": "6ec3d742",
   "metadata": {},
   "source": [
    "### w = 0\n",
    "(X otimes X) dot CZ dot ( X otimes X)"
   ]
  },
  {
   "cell_type": "markdown",
   "id": "ea8c8267",
   "metadata": {},
   "source": [
    "### w = 1\n",
    "(X otimes I ) dot CZ dot (X otimes I)"
   ]
  },
  {
   "cell_type": "markdown",
   "id": "9054879e",
   "metadata": {},
   "source": [
    "### w = 2\n",
    "(I otimes X ) dot CZ dot (I otimes X)"
   ]
  },
  {
   "cell_type": "markdown",
   "id": "c552bc72",
   "metadata": {},
   "source": [
    "### w = 3\n",
    "(I otimes I ) dot CZ (I otimes I)"
   ]
  },
  {
   "cell_type": "markdown",
   "id": "1770a6fb",
   "metadata": {},
   "source": [
    "X = \\begin{pmatrix} 0 & 1 \\\\ 1 & 0 \\end{pmatrix},\n",
    "\n",
    "CZ = \\begin{pmatrix}1 & 0 & 0 & 0 \\\\ 0& 1 & 0 & 0 \\\\ 0 & 0 & 1 & 0 \\\\ 0 & 0 & 0 & -1\\end{pmatrix}\n",
    "\n",
    "if ,  w = 3 \n",
    "oracle = I otimes X dot CZ dot I otime X"
   ]
  },
  {
   "cell_type": "code",
   "execution_count": null,
   "id": "542c7be8",
   "metadata": {},
   "outputs": [],
   "source": []
  },
  {
   "cell_type": "code",
   "execution_count": null,
   "id": "32a54e38",
   "metadata": {},
   "outputs": [],
   "source": []
  }
 ],
 "metadata": {
  "kernelspec": {
   "display_name": "Python 3 (ipykernel)",
   "language": "python",
   "name": "python3"
  },
  "language_info": {
   "codemirror_mode": {
    "name": "ipython",
    "version": 3
   },
   "file_extension": ".py",
   "mimetype": "text/x-python",
   "name": "python",
   "nbconvert_exporter": "python",
   "pygments_lexer": "ipython3",
   "version": "3.7.11"
  }
 },
 "nbformat": 4,
 "nbformat_minor": 5
}
