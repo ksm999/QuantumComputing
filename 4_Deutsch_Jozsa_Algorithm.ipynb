{
  "nbformat": 4,
  "nbformat_minor": 0,
  "metadata": {
    "colab": {
      "provenance": [],
      "authorship_tag": "ABX9TyM7zlIrszcSDjk/vk46bWqC",
      "include_colab_link": true
    },
    "kernelspec": {
      "name": "python3",
      "display_name": "Python 3"
    },
    "language_info": {
      "name": "python"
    }
  },
  "cells": [
    {
      "cell_type": "markdown",
      "metadata": {
        "id": "view-in-github",
        "colab_type": "text"
      },
      "source": [
        "<a href=\"https://colab.research.google.com/github/ksm999/QuantumComputing/blob/main/4_Deutsch_Jozsa_Algorithm.ipynb\" target=\"_parent\"><img src=\"https://colab.research.google.com/assets/colab-badge.svg\" alt=\"Open In Colab\"/></a>"
      ]
    },
    {
      "cell_type": "markdown",
      "source": [
        "# Deutsch - Jozsa Algorithm\n"
      ],
      "metadata": {
        "id": "BHb0mkbRZP7U"
      }
    },
    {
      "cell_type": "markdown",
      "source": [
        "Deutsch - Jozsa Algorithm을 설명하기 전에, 해당 Algorithm이 등장하게 된 원인을 Quantum Mechanics의 Properties를 이야기하면서 설명하고자 한다."
      ],
      "metadata": {
        "id": "NxqTaTbwZP5k"
      }
    },
    {
      "cell_type": "markdown",
      "source": [
        "## The Properties of Quantum Mechanics\n",
        "\n",
        "### 1. Superposition\n",
        "### 2. Entanglement\n",
        "\n",
        "양자역학에 관심이 있는 사람이라면 익숙한 단어들이다.\n",
        "Tutorials에서도 설명했었지만 Quantum Mechanics의 Properties를 이용한 Quantum Algorithm들의 경우\n",
        "Superposition 과 Entanglement를 이용해서\n",
        "기존의 Classical Algorithm보다 우월한 성능을 보여준다.\n",
        "가장 잘 알려진 Property인 Superposition의 경우 0과 1 state를 중첩하여 저장함으로써 n개의 qubits 을 통해 생성된 2^n개의 state를 병렬로 빠르게 처리할 수 있다.\n",
        "\n",
        "Entanglement의 경우 서로 얽혀있는 two state 중에서 하나의 state가 측정된다면, 거리에 상관없이 다른 state가 '즉시' 결정된다는 것이다. 자세한 설명을 다음에 하겠지만 이를 통해\n",
        "Classical computation에 비해 지수함수적으로 빠르게 연산을 처리할 수 있다.\n",
        "\n",
        "Quantum Mechanics의 이러한 성질들만 보면 Quantum Algorithm이 현재 모든 Classical Algorithm 들을 압도하는 것처럼 들릴 수 있으나 Quantum Algorithm에는 치명적인 약점이 존재한다.\n",
        "Wave function Collapse, 즉 붕괴이다.\n",
        "Quantum Mechanics에서 state에 대한 정보는 wave function을 통해 가지고 있는데 superposition된 state를 측정하게 되면 wave function이 붕괴되고 관측된 하나의 state로 wave function이 고정되어버린다.\n",
        "\n",
        "이러한 문제를 해결하기 위해선 측정하기 전에 값을 알 수 있는 algorithm이 필요한데 이런 algorithm을 quantum algorithm이라고 한다."
      ],
      "metadata": {
        "id": "SWu1qK77Z3Qj"
      }
    },
    {
      "cell_type": "markdown",
      "source": [
        "Deutsch-Jozsa Algorithm을 설명하기 전\n",
        "하나의 예시와 함께 Deutsch Algorithm을 설명하겠다."
      ],
      "metadata": {
        "id": "uSmLr2gkfFy7"
      }
    },
    {
      "cell_type": "markdown",
      "source": [
        "어떤 함수 F(x) : {0,1} -> {0,1} 에 대하여, F(0) 과 F(1) 이 같은 지 판단하는 문제가 주어졌다고 가정하자.\n",
        "Classical Algorithm의 경우 0 과 1을 각각 대입해서 계산한 다음 두 값을 비교하여 판단하게 된다. 따라서 계산은 총 2번 시행된다.\n",
        "\n",
        "Quantum Algorithm의 경우는 어떨까?"
      ],
      "metadata": {
        "id": "j3m0mDbbffHK"
      }
    },
    {
      "cell_type": "markdown",
      "source": [
        "![다운로드.png](data:image/png;base64,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)"
      ],
      "metadata": {
        "id": "MtFlcyB0fREG"
      }
    },
    {
      "cell_type": "markdown",
      "source": [
        "먼저 Initial state를 0로 초기화한 다음, Hadamard Gate를 통과하여 superposition state로 만든 다음, 어떤 함수 F(x)를 통과하여 측정하게 된다.\n",
        "그러나 측정 과정 중에 문제가 생긴다.\n",
        "측정을 통해 0 or 1 하나의 state로 state가 붕괴하게 되어 둘 중 하나의 값만 측정되는 것이다.\n",
        "이렇게 되면 Classical Algorithm과 똑같이 2번 측정하게 된다.\n",
        "\n",
        "이를 해결하기 위해 Deutsch Algorithm이 제시되었다."
      ],
      "metadata": {
        "id": "XCJNYWiEfd7b"
      }
    },
    {
      "cell_type": "code",
      "source": [],
      "metadata": {
        "id": "FwNMs_kDhgE4"
      },
      "execution_count": null,
      "outputs": []
    },
    {
      "cell_type": "code",
      "source": [],
      "metadata": {
        "id": "nrcM34zBfXMx"
      },
      "execution_count": null,
      "outputs": []
    },
    {
      "cell_type": "code",
      "source": [],
      "metadata": {
        "id": "olyBZvOIfE_H"
      },
      "execution_count": null,
      "outputs": []
    },
    {
      "cell_type": "code",
      "source": [],
      "metadata": {
        "id": "JteHIqd_akE7"
      },
      "execution_count": null,
      "outputs": []
    },
    {
      "cell_type": "code",
      "source": [],
      "metadata": {
        "id": "zqFW7PquZ2h2"
      },
      "execution_count": null,
      "outputs": []
    },
    {
      "cell_type": "code",
      "execution_count": null,
      "metadata": {
        "id": "emv5x6aZZHyG"
      },
      "outputs": [],
      "source": []
    }
  ]
}