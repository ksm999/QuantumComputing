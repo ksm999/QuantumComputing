{
  "cells": [
    {
      "cell_type": "markdown",
      "metadata": {
        "id": "view-in-github",
        "colab_type": "text"
      },
      "source": [
        "<a href=\"https://colab.research.google.com/github/ksm999/QuantumComputing/blob/main/My_Projection.ipynb\" target=\"_parent\"><img src=\"https://colab.research.google.com/assets/colab-badge.svg\" alt=\"Open In Colab\"/></a>"
      ]
    },
    {
      "cell_type": "code",
      "execution_count": null,
      "metadata": {
        "id": "QVfRPYUHpx-i",
        "outputId": "a81536cf-61b0-4ceb-bdd2-3eef0b5adaa2"
      },
      "outputs": [
        {
          "data": {
            "text/plain": [
              "'c:\\\\Users\\\\admin\\\\Desktop\\\\Stereo'"
            ]
          },
          "execution_count": 18,
          "metadata": {},
          "output_type": "execute_result"
        }
      ],
      "source": [
        "import os\n",
        "os.path.abspath('')"
      ]
    },
    {
      "cell_type": "code",
      "execution_count": null,
      "metadata": {
        "id": "As_qKH3kpx-m",
        "outputId": "76c198b6-a3c8-436d-d722-299b740dc813"
      },
      "outputs": [
        {
          "name": "stdout",
          "output_type": "stream",
          "text": [
            "c:\\Users\\admin\\Desktop\\Stereo\\cat2.jpg\n"
          ]
        }
      ],
      "source": [
        "path_img = 'cat2.jpg'\n",
        "path_img = os.path.join(os.path.abspath(''),\n",
        "                            path_img)\n",
        "print(path_img)"
      ]
    },
    {
      "cell_type": "code",
      "execution_count": null,
      "metadata": {
        "id": "xJqGSmIupx-n"
      },
      "outputs": [],
      "source": [
        "import numpy as np\n",
        "import pygame\n",
        "from PIL import Image"
      ]
    },
    {
      "cell_type": "code",
      "execution_count": null,
      "metadata": {
        "id": "ZxXJ4ij6px-n"
      },
      "outputs": [],
      "source": [
        "path_img = 'cat2.jpg'\n",
        "path_proj = 'tac.jpg'\n",
        "\n",
        "w_proj = 400\n",
        "h_proj = 300\n",
        "\n",
        "offset_hor = 0\n",
        "offset_ver = 0.4\n",
        "\n",
        "scale = 1.5\n",
        "\n",
        "alpha = 0 * np.pi / 180  # Angle of Rotation aroun the x-axis\n",
        "beta = 2 * np.pi / 180  # Rotation angle around y-axis (around 150° to get chestnut head)\n",
        "gamma = -1 * np.pi / 180  # angle of rotation about z axis"
      ]
    },
    {
      "cell_type": "code",
      "execution_count": null,
      "metadata": {
        "id": "Kl8Chb37px-o"
      },
      "outputs": [],
      "source": [
        "def get_point_on_sphere(point,r):\n",
        "\n",
        "    [x, y, z] = point\n",
        "    k = 2 * r**2 / (x**2 + y**2 + r**2)\n",
        "    return np.array([k * x, k * y, (k - 1) * r], dtype=np.float32)\n",
        "\n",
        "def axis_rotate(point, rot_mat):\n",
        "\n",
        "    return np.dot(rot_mat, point)\n",
        "\n",
        "\n",
        "def get_pix_on_img(point, r, h_img, w_img):\n",
        "\n",
        "    [x, y, z] = point\n",
        "    if z > r:\n",
        "        z = r\n",
        "    row = np.arccos(z / r) / np.pi\n",
        "    col = np.arctan2(y, x) / 2 / np.pi + 0.5\n",
        "\n",
        "    row = round(row * h_img) % h_img\n",
        "    col = round(col * w_img) % w_img\n",
        "\n",
        "    return (row, col)\n",
        "\n",
        "def projection(pix_proj, r, h_img, w_img, h_proj, w_proj):\n",
        "\n",
        "    (row, col) = pix_proj\n",
        "\n",
        "    x = row + (offset_ver - 0.5) * h_proj\n",
        "    y = col + (offset_hor - 0.5) * w_proj\n",
        "    z = 0\n",
        "\n",
        "    Q = np.array([x, y, z], dtype=np.float32)\n",
        "    P = get_point_on_sphere(Q, r)\n",
        "    P = axis_rotate(P, rot_mat)\n",
        "    return get_pix_on_img(P, r, h_img, w_img)\n"
      ]
    },
    {
      "cell_type": "code",
      "execution_count": null,
      "metadata": {
        "id": "OKrKKZm0px-o",
        "outputId": "00d11bb3-fd1d-4b8b-9302-8d4e00ebc048"
      },
      "outputs": [
        {
          "name": "stdout",
          "output_type": "stream",
          "text": [
            "720 1280\n"
          ]
        }
      ],
      "source": [
        "arr_img = np.array(Image.open(path_img))\n",
        "arr_proj = np.zeros((h_proj, w_proj, 3), dtype=np.uint8)\n",
        "h_img = arr_img.shape[0]\n",
        "w_img = arr_img.shape[1]\n",
        "\n",
        "print(h_img, w_img)"
      ]
    },
    {
      "cell_type": "code",
      "execution_count": null,
      "metadata": {
        "id": "NlEiIidJpx-p"
      },
      "outputs": [],
      "source": [
        "arr_img = np.array(Image.open(path_img))\n",
        "arr_proj = np.zeros((h_proj, w_proj, 3), dtype=np.uint8)\n",
        "\n",
        "h_img = arr_img.shape[0]\n",
        "w_img = arr_img.shape[1]\n",
        "\n",
        "# print(h_img, w_img)  # height, width\n",
        "\n",
        "r = min(h_proj, w_proj) / 10 * scale\n",
        "\n",
        "# min(300, 400) / 10 * 1.5 = 300 / 10 * 1.5 = 45\n",
        "\n",
        "rot_mat = np.array([[\n",
        "    np.cos(gamma) * np.cos(beta),\n",
        "    np.cos(gamma) * np.sin(beta) * np.sin(alpha) -\n",
        "    np.sin(gamma) * np.cos(alpha),\n",
        "    np.cos(gamma) * np.sin(beta) * np.cos(alpha) +\n",
        "    np.sin(gamma) * np.sin(alpha)\n",
        "    ],\n",
        "                [\n",
        "                        np.sin(gamma) * np.cos(beta),\n",
        "                        np.sin(gamma) * np.sin(beta) * np.sin(alpha) +\n",
        "                        np.cos(gamma) * np.cos(alpha),\n",
        "                        np.sin(gamma) * np.sin(beta) * np.cos(alpha) -\n",
        "                        np.cos(gamma) * np.sin(alpha)\n",
        "                        ],\n",
        "\n",
        "                        [\n",
        "                            -np.sin(beta),\n",
        "                            np.cos(beta) * np.sin(alpha),\n",
        "                            np.cos(beta) * np.cos(alpha)\n",
        "                        ]])\n",
        "\n",
        "\n",
        "for pix_proj in np.ndindex(arr_proj.shape[:2]):\n",
        "    pix_img = projection(pix_proj, r, h_img, w_img, h_proj, w_proj)\n",
        "    arr_proj[pix_proj] = arr_img[pix_img]\n",
        "\n",
        "Image.fromarray(arr_proj).show()\n"
      ]
    },
    {
      "cell_type": "code",
      "execution_count": null,
      "metadata": {
        "id": "VrltfE2Qpx-q"
      },
      "outputs": [],
      "source": []
    }
  ],
  "metadata": {
    "kernelspec": {
      "display_name": "Python 3",
      "language": "python",
      "name": "python3"
    },
    "language_info": {
      "codemirror_mode": {
        "name": "ipython",
        "version": 3
      },
      "file_extension": ".py",
      "mimetype": "text/x-python",
      "name": "python",
      "nbconvert_exporter": "python",
      "pygments_lexer": "ipython3",
      "version": "3.11.6"
    },
    "colab": {
      "provenance": [],
      "include_colab_link": true
    }
  },
  "nbformat": 4,
  "nbformat_minor": 0
}