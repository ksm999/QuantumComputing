{
  "nbformat": 4,
  "nbformat_minor": 0,
  "metadata": {
    "colab": {
      "provenance": [],
      "mount_file_id": "1xZh4FwN-fxPm5rmR5LVk98jXDNnOWG3y",
      "authorship_tag": "ABX9TyPKMtie4+mqR4nl63bg04Ee",
      "include_colab_link": true
    },
    "kernelspec": {
      "name": "python3",
      "display_name": "Python 3"
    },
    "language_info": {
      "name": "python"
    }
  },
  "cells": [
    {
      "cell_type": "markdown",
      "metadata": {
        "id": "view-in-github",
        "colab_type": "text"
      },
      "source": [
        "<a href=\"https://colab.research.google.com/github/ksm999/QuantumComputing/blob/main/Steregraphic_Projection_Otto.ipynb\" target=\"_parent\"><img src=\"https://colab.research.google.com/assets/colab-badge.svg\" alt=\"Open In Colab\"/></a>"
      ]
    },
    {
      "cell_type": "code",
      "source": [
        "# Introduction:\n",
        "import os\n",
        "\n",
        "import numpy as np\n",
        "import pygame\n",
        "from PIL import Image"
      ],
      "metadata": {
        "id": "4gVKL1t03mwR"
      },
      "execution_count": 24,
      "outputs": []
    },
    {
      "cell_type": "code",
      "source": [
        "file_path = '/content/drive/MyDrive/Stereo'"
      ],
      "metadata": {
        "id": "5HygAiUm8e6h"
      },
      "execution_count": 26,
      "outputs": []
    },
    {
      "cell_type": "code",
      "source": [
        "#!user/bin/env python\n",
        "# -*- coding:utf-8 -*-\n",
        "\"\"\"Stereographic-Projection-of-Otto:\n",
        "@File: main.py\n",
        "@Brief: Various forms of Otto are obtained by spherical projection.\n",
        "@Author: Golevka2001<gol3vka@163.com>\n",
        "@Created Date: 2022/11/29\n",
        "@Last Modified Date: 2022/12/02\n",
        "\"\"\"\n",
        "\n",
        "# --------------- 매개변수 부분 --------------- #\n",
        "\n",
        "# 원본 이미지 경로：\n",
        "path_img = file_path + './otto.png'\n",
        "# 투영 이미지 출력 경로\n",
        "path_proj = file_path + './toot.png'\n",
        "\n",
        "# 투영 이미지 출력 크기 (단위: 픽셀)\n",
        "w_proj = 400\n",
        "h_proj = 300\n",
        "\n",
        "# Offset(단위 : 백분율)\n",
        "# 비고 : 출력된 투영 이미지의 중심 위치를 조정\n",
        "offset_hor = 0  # Horizontal offset (positive to right）\n",
        "offset_ver = 0.4  # Vertical offset (positive downward)\n",
        "\n",
        "# Scaling multiple\n",
        "scale = 1.5\n",
        "\n",
        "# Angle of Rotation of Coordinate axis (좌표축의 회전 각도):\n",
        "# Note : Rotation is to obtain different spherical projection conditions (reason/chestnut head)\n",
        "# 회전은 서로 다른 구면 투영 상황을 얻기 위한 것이다. (밤머리)\n",
        "alpha = 0 * np.pi / 180  # Angle of Rotation aroun the x-axis\n",
        "beta = -5 * np.pi / 180  # Rotation angle around y-axis (around 150° to get chestnut head)\n",
        "gamma = 0 * np.pi / 180  # angle of rotation about z axis\n",
        "\n",
        "# --------------- 실현 --------------- #"
      ],
      "metadata": {
        "id": "nVn88XXW3pVR"
      },
      "execution_count": 20,
      "outputs": []
    },
    {
      "cell_type": "code",
      "source": [
        "def get_point_on_sphere(point: np.ndarray, r: float) -> np.ndarray:\n",
        "    \"\"\" Calculate the coordinates of the intersection point P between a point Q on the z=0 plane\n",
        "    and a projection point D on the sphere\n",
        "\n",
        "    Args:\n",
        "        point (np.ndarray): point Q coordinate\n",
        "        r (float): sphere radius\n",
        "\n",
        "    Returns:\n",
        "        np.ndarray: Coordinates of the intersection point P on the sphere\n",
        "    \"\"\"\n",
        "    [x, y, z] = point\n",
        "    k = 2 * r**2 / (x**2 + y**2 + r**2)\n",
        "    # Derivation and simplification of the obtained coefficients (see README.md for the derivation process)\n",
        "    return np.array([k * x, k * y, (k - 1) * r], dtype=np.float32)\n",
        "\n",
        "\n",
        "def axis_rotate(point: np.ndarray, rot_mat: np.ndarray) -> np.ndarray:\n",
        "    \"\"\"Calculate the change of point P coordinate after rotation of coordinate system\n",
        "\n",
        "    Args:\n",
        "        point (np.ndarray): point P coordinate\n",
        "        rot_mat (np.ndarray): Rotation matrix (see README.md for derivation)\n",
        "\n",
        "    Returns:\n",
        "        np.ndarray: transformed point P coordinate\n",
        "    \"\"\"\n",
        "    return np.dot(rot_mat, point)\n",
        "\n",
        "\n",
        "def get_pix_on_img(point: np.ndarray, r: float, h_img: int,\n",
        "                   w_img: int) -> tuple:\n",
        "    \"\"\"The inverse process of spherical projection, calculating the coordinates of a point P on the sphere on the original image.\n",
        "\n",
        "    Args:\n",
        "        point (np.ndarray): point P coordinate\n",
        "        r (float): sphere radius\n",
        "        h_img (int): original image height\n",
        "        w_img (int): original image width\n",
        "\n",
        "    Returns:\n",
        "        tuple: Pixel coordinates corresponding to the original image\n",
        "    \"\"\"\n",
        "    [x, y, z] = point\n",
        "    if z > r:\n",
        "        z = r\n",
        "    row = np.arccos(z / r) / np.pi\n",
        "    col = np.arctan2(y, x) / 2 / np.pi + 0.5  # Adding 0.5 is moving the center of the image to the plane y=0.\n",
        "    # The coordinate range is restored to the original image size:\n",
        "    row = round(row * h_img) % h_img\n",
        "    col = round(col * w_img) % w_img\n",
        "    return (row, col)\n",
        "\n",
        "\n",
        "def projection(pix_proj: tuple, r: float, h_img: int, w_img: int, h_proj: int,\n",
        "               w_proj: int) -> tuple:\n",
        "    \"\"\"spherical projection\n",
        "\n",
        "    Args:\n",
        "        pix_proj (tuple): pixel coordinates on projected images\n",
        "        r (float): sphere radius\n",
        "        h_img (int): original image height\n",
        "        w_img (int): original image width\n",
        "        h_proj (int): projected image height\n",
        "        w_proj (int): projection width\n",
        "\n",
        "    Returns:\n",
        "        tuple: Pixel coordinates corresponding to the original image\n",
        "    \"\"\"\n",
        "    # The pixel point coordinate on the projection image is converted to 3D coordinate:\n",
        "    (row, col) = pix_proj\n",
        "    x = row + (offset_ver - 0.5) * h_proj\n",
        "    y = col + (offset_hor - 0.5) * w_proj\n",
        "    z = 0\n",
        "    Q = np.array([x, y, z], dtype=np.float32)\n",
        "    P = get_point_on_sphere(Q, r)\n",
        "    P = axis_rotate(P, rot_mat)\n",
        "    return get_pix_on_img(P, r, h_img, w_img)\n"
      ],
      "metadata": {
        "id": "Dl_bFrgh3wLZ"
      },
      "execution_count": 21,
      "outputs": []
    },
    {
      "cell_type": "code",
      "source": [
        "!pip install pygame"
      ],
      "metadata": {
        "colab": {
          "base_uri": "https://localhost:8080/"
        },
        "id": "suAb3v1m4Dsi",
        "outputId": "225273f5-1726-4135-c674-085576482d91"
      },
      "execution_count": null,
      "outputs": [
        {
          "output_type": "stream",
          "name": "stdout",
          "text": [
            "Requirement already satisfied: pygame in /usr/local/lib/python3.10/dist-packages (2.5.2)\n"
          ]
        }
      ]
    },
    {
      "cell_type": "code",
      "source": [
        "from pygame import *"
      ],
      "metadata": {
        "id": "Nf6cMSX74GrQ"
      },
      "execution_count": null,
      "outputs": []
    },
    {
      "cell_type": "code",
      "source": [
        "import os\n",
        "print(os.getcwd())"
      ],
      "metadata": {
        "colab": {
          "base_uri": "https://localhost:8080/"
        },
        "id": "2E1mvg7D_AWO",
        "outputId": "cff0694f-dfcf-4e0d-f69c-ba08de7c2110"
      },
      "execution_count": 29,
      "outputs": [
        {
          "output_type": "stream",
          "name": "stdout",
          "text": [
            "/content/drive/MyDrive\n"
          ]
        }
      ]
    },
    {
      "cell_type": "code",
      "source": [
        "if __name__ == '__main__':\n",
        "    '''\n",
        "    pygame.mixer.init()\n",
        "    pygame.mixer.music.load(file_path + 'bgm.wav')\n",
        "    pygame.mixer.music.set_volume(0.3)\n",
        "    pygame.mixer.music.play()\n",
        "    '''\n",
        "\n",
        "    path_img = os.path.join(os.path.abspath(os.path.dirname(__file__)),\n",
        "                            path_img)\n",
        "    path_proj = os.path.join(os.path.abspath(os.path.dirname(__file__)),\n",
        "                             path_proj)\n",
        "\n",
        "    arr_img = np.array(Image.open(path_img))\n",
        "    arr_proj = np.zeros((h_proj, w_proj, 3), dtype=np.uint8)\n",
        "\n",
        "    h_img = arr_img.shape[0]\n",
        "    w_img = arr_img.shape[1]\n",
        "\n",
        "    r = min(h_proj, w_proj) / 10 * scale  # The radius of the sphere affects how much content is presented on the projected image.\n",
        "\n",
        "    # It's always automatically formatted to look so ugly.\n",
        "    rot_mat = np.array([[\n",
        "        np.cos(gamma) * np.cos(beta),\n",
        "        np.cos(gamma) * np.sin(beta) * np.sin(alpha) -\n",
        "        np.sin(gamma) * np.cos(alpha),\n",
        "        np.cos(gamma) * np.sin(beta) * np.cos(alpha) +\n",
        "        np.sin(gamma) * np.sin(alpha)\n",
        "    ],\n",
        "                        [\n",
        "                            np.sin(gamma) * np.cos(beta),\n",
        "                            np.sin(gamma) * np.sin(beta) * np.sin(alpha) +\n",
        "                            np.cos(gamma) * np.cos(alpha),\n",
        "                            np.sin(gamma) * np.sin(beta) * np.cos(alpha) -\n",
        "                            np.cos(gamma) * np.sin(alpha)\n",
        "                        ],\n",
        "                        [\n",
        "                            -np.sin(beta),\n",
        "                            np.cos(beta) * np.sin(alpha),\n",
        "                            np.cos(beta) * np.cos(alpha)\n",
        "                        ]])\n",
        "\n",
        "    # That is, lay the target image on the xy plane (the center of the image is O, so pay attention to the range of coordinates)\n",
        "    # Through each pixel point, the coordinates of the intersections on the sphere are obtained, and the inverse transformation of the spherical projection corresponds to the pixels on the original image.\n",
        "    for pix_proj in np.ndindex(arr_proj.shape[:2]):\n",
        "        pix_img = projection(pix_proj, r, h_img, w_img, h_proj, w_proj)\n",
        "        arr_proj[pix_proj] = arr_img[pix_img]\n",
        "\n",
        "    pygame.mixer.music.unload()\n",
        "    pygame.mixer.music.load(file_path + 'dududu.mp3')\n",
        "    pygame.mixer.music.set_volume(0.8)\n",
        "    pygame.mixer.music.play()\n",
        "\n",
        "    Image.fromarray(arr_proj).show()  # annotate this line without pop-up\n",
        "    # Image.fromarray(arr_proj).save(path_proj)  # annotate this line without outputting the file\n"
      ],
      "metadata": {
        "colab": {
          "base_uri": "https://localhost:8080/",
          "height": 258
        },
        "id": "OXg5vxHi33lR",
        "outputId": "fd1abc59-4bf9-4a1e-9605-e49a0e4f851d"
      },
      "execution_count": 31,
      "outputs": [
        {
          "output_type": "error",
          "ename": "NameError",
          "evalue": "ignored",
          "traceback": [
            "\u001b[0;31m---------------------------------------------------------------------------\u001b[0m",
            "\u001b[0;31mNameError\u001b[0m                                 Traceback (most recent call last)",
            "\u001b[0;32m<ipython-input-31-021cdb6b482d>\u001b[0m in \u001b[0;36m<cell line: 1>\u001b[0;34m()\u001b[0m\n\u001b[1;32m      7\u001b[0m     '''\n\u001b[1;32m      8\u001b[0m \u001b[0;34m\u001b[0m\u001b[0m\n\u001b[0;32m----> 9\u001b[0;31m     path_img = os.path.join(os.path.abspath(os.path.dirname(__file__)),\n\u001b[0m\u001b[1;32m     10\u001b[0m                             path_img)\n\u001b[1;32m     11\u001b[0m     path_proj = os.path.join(os.path.abspath(os.path.dirname(__file__)),\n",
            "\u001b[0;31mNameError\u001b[0m: name '__file__' is not defined"
          ]
        }
      ]
    },
    {
      "cell_type": "code",
      "execution_count": null,
      "metadata": {
        "id": "jJwkF-hL2TyG",
        "colab": {
          "base_uri": "https://localhost:8080/",
          "height": 294
        },
        "outputId": "58b0e39c-66ce-4c09-985e-6c570f4437b5"
      },
      "outputs": [
        {
          "output_type": "stream",
          "name": "stdout",
          "text": [
            "pygame 2.5.2 (SDL 2.28.2, Python 3.10.12)\n",
            "Hello from the pygame community. https://www.pygame.org/contribute.html\n"
          ]
        },
        {
          "output_type": "error",
          "ename": "error",
          "evalue": "ignored",
          "traceback": [
            "\u001b[0;31m---------------------------------------------------------------------------\u001b[0m",
            "\u001b[0;31merror\u001b[0m                                     Traceback (most recent call last)",
            "\u001b[0;32m<ipython-input-2-1bfa9d2cb6fd>\u001b[0m in \u001b[0;36m<cell line: 124>\u001b[0;34m()\u001b[0m\n\u001b[1;32m    123\u001b[0m \u001b[0;34m\u001b[0m\u001b[0m\n\u001b[1;32m    124\u001b[0m \u001b[0;32mif\u001b[0m \u001b[0m__name__\u001b[0m \u001b[0;34m==\u001b[0m \u001b[0;34m'__main__'\u001b[0m\u001b[0;34m:\u001b[0m\u001b[0;34m\u001b[0m\u001b[0;34m\u001b[0m\u001b[0m\n\u001b[0;32m--> 125\u001b[0;31m     \u001b[0mpygame\u001b[0m\u001b[0;34m.\u001b[0m\u001b[0mmixer\u001b[0m\u001b[0;34m.\u001b[0m\u001b[0minit\u001b[0m\u001b[0;34m(\u001b[0m\u001b[0;34m)\u001b[0m\u001b[0;34m\u001b[0m\u001b[0;34m\u001b[0m\u001b[0m\n\u001b[0m\u001b[1;32m    126\u001b[0m     \u001b[0mpygame\u001b[0m\u001b[0;34m.\u001b[0m\u001b[0mmixer\u001b[0m\u001b[0;34m.\u001b[0m\u001b[0mmusic\u001b[0m\u001b[0;34m.\u001b[0m\u001b[0mload\u001b[0m\u001b[0;34m(\u001b[0m\u001b[0;34m'bgm.wav'\u001b[0m\u001b[0;34m)\u001b[0m\u001b[0;34m\u001b[0m\u001b[0;34m\u001b[0m\u001b[0m\n\u001b[1;32m    127\u001b[0m     \u001b[0mpygame\u001b[0m\u001b[0;34m.\u001b[0m\u001b[0mmixer\u001b[0m\u001b[0;34m.\u001b[0m\u001b[0mmusic\u001b[0m\u001b[0;34m.\u001b[0m\u001b[0mset_volume\u001b[0m\u001b[0;34m(\u001b[0m\u001b[0;36m0.3\u001b[0m\u001b[0;34m)\u001b[0m\u001b[0;34m\u001b[0m\u001b[0;34m\u001b[0m\u001b[0m\n",
            "\u001b[0;31merror\u001b[0m: ALSA: Couldn't open audio device: No such file or directory"
          ]
        }
      ],
      "source": [
        "#!user/bin/env python\n",
        "# -*- coding:utf-8 -*-\n",
        "\"\"\"Stereographic-Projection-of-Otto:\n",
        "@File: main.py\n",
        "@Brief: Various forms of Otto are obtained by spherical projection.\n",
        "@Author: Golevka2001<gol3vka@163.com>\n",
        "@Created Date: 2022/11/29\n",
        "@Last Modified Date: 2022/12/02\n",
        "\"\"\"\n",
        "\n",
        "# 开导：\n",
        "import os\n",
        "\n",
        "import numpy as np\n",
        "import pygame\n",
        "from PIL import Image\n",
        "\n",
        "# --------------- 参数部分 --------------- #\n",
        "\n",
        "# 原始图像路径：\n",
        "path_img = './otto.png'\n",
        "# 投影图像输出路径：\n",
        "path_proj = './toot.png'\n",
        "\n",
        "# 投影图像输出尺寸（单位：像素）：\n",
        "w_proj = 400\n",
        "h_proj = 300\n",
        "\n",
        "# 偏移量（单位：百分比）：\n",
        "# 注：用于调整输出的投影图像中心在投影平面上的位置：\n",
        "offset_hor = 0  # 水平方向偏移量（向右为正）\n",
        "offset_ver = 0.4  # 垂直方向偏移量（向下为正）\n",
        "\n",
        "# 缩放倍数\n",
        "scale = 1.5\n",
        "\n",
        "# 坐标轴的旋转角度：\n",
        "# 注：旋转是为了得到不同的球面投影情况（说的道理/栗子头）\n",
        "alpha = 0 * np.pi / 180  # 绕x轴旋转角度\n",
        "beta = -5 * np.pi / 180  # 绕y轴旋转角度（150°左右可得到栗子头）\n",
        "gamma = 0 * np.pi / 180  # 绕z轴旋转角度\n",
        "\n",
        "# --------------- 实现 --------------- #\n",
        "\n",
        "\n",
        "def get_point_on_sphere(point: np.ndarray, r: float) -> np.ndarray:\n",
        "    \"\"\"计算z=0平面上一点Q与投影点D连线在球面上的交点P的坐标\n",
        "\n",
        "    Args:\n",
        "        point (np.ndarray): 点Q坐标\n",
        "        r (float): 球半径\n",
        "\n",
        "    Returns:\n",
        "        np.ndarray: 球面上交点P的坐标\n",
        "    \"\"\"\n",
        "    [x, y, z] = point\n",
        "    k = 2 * r**2 / (x**2 + y**2 + r**2)  # 推导、化简得到的系数（推导过程见README.md）\n",
        "    return np.array([k * x, k * y, (k - 1) * r], dtype=np.float32)\n",
        "\n",
        "\n",
        "def axis_rotate(point: np.ndarray, rot_mat: np.ndarray) -> np.ndarray:\n",
        "    \"\"\"计算坐标系旋转后，点P坐标的变化\n",
        "\n",
        "    Args:\n",
        "        point (np.ndarray): 点P坐标\n",
        "        rot_mat (np.ndarray): 旋转矩阵（推导过程见README.md）\n",
        "\n",
        "    Returns:\n",
        "        np.ndarray: 变换后的点P坐标\n",
        "    \"\"\"\n",
        "    return np.dot(rot_mat, point)\n",
        "\n",
        "\n",
        "def get_pix_on_img(point: np.ndarray, r: float, h_img: int,\n",
        "                   w_img: int) -> tuple:\n",
        "    \"\"\"球面投影的逆过程，计算球面上一点P在原图像上的坐标\n",
        "\n",
        "    Args:\n",
        "        point (np.ndarray): 点P坐标\n",
        "        r (float): 球半径\n",
        "        h_img (int): 原始图像高度\n",
        "        w_img (int): 原始图像宽度\n",
        "\n",
        "    Returns:\n",
        "        tuple: 对应在原始图像上的像素点坐标\n",
        "    \"\"\"\n",
        "    [x, y, z] = point\n",
        "    if z > r:\n",
        "        z = r\n",
        "    row = np.arccos(z / r) / np.pi\n",
        "    col = np.arctan2(y, x) / 2 / np.pi + 0.5  # 加0.5是把图像中心移到平面y=0处\n",
        "    # 坐标范围恢复到原始图像的尺寸：\n",
        "    row = round(row * h_img) % h_img\n",
        "    col = round(col * w_img) % w_img\n",
        "    return (row, col)\n",
        "\n",
        "\n",
        "def projection(pix_proj: tuple, r: float, h_img: int, w_img: int, h_proj: int,\n",
        "               w_proj: int) -> tuple:\n",
        "    \"\"\"球极投影\n",
        "\n",
        "    Args:\n",
        "        pix_proj (tuple): 投影图像上的像素点坐标\n",
        "        r (float): 球半径\n",
        "        h_img (int): 原始图像高度\n",
        "        w_img (int): 原始图像宽度\n",
        "        h_proj (int): 投影图像高度\n",
        "        w_proj (int): 投影图像宽度\n",
        "\n",
        "    Returns:\n",
        "        tuple: 对应在原始图像上的像素点坐标\n",
        "    \"\"\"\n",
        "    # 投影图像上像素点坐标转为三维坐标：\n",
        "    (row, col) = pix_proj\n",
        "    x = row + (offset_ver - 0.5) * h_proj\n",
        "    y = col + (offset_hor - 0.5) * w_proj\n",
        "    z = 0\n",
        "    Q = np.array([x, y, z], dtype=np.float32)\n",
        "    P = get_point_on_sphere(Q, r)\n",
        "    P = axis_rotate(P, rot_mat)\n",
        "    return get_pix_on_img(P, r, h_img, w_img)\n",
        "\n",
        "\n",
        "if __name__ == '__main__':\n",
        "    pygame.mixer.init()\n",
        "    pygame.mixer.music.load('bgm.wav')\n",
        "    pygame.mixer.music.set_volume(0.3)\n",
        "    pygame.mixer.music.play()\n",
        "\n",
        "    path_img = os.path.join(os.path.abspath(os.path.dirname(__file__)),\n",
        "                            path_img)\n",
        "    path_proj = os.path.join(os.path.abspath(os.path.dirname(__file__)),\n",
        "                             path_proj)\n",
        "\n",
        "    arr_img = np.array(Image.open(path_img))\n",
        "    arr_proj = np.zeros((h_proj, w_proj, 3), dtype=np.uint8)\n",
        "\n",
        "    h_img = arr_img.shape[0]\n",
        "    w_img = arr_img.shape[1]\n",
        "\n",
        "    r = min(h_proj, w_proj) / 10 * scale  # 球的半径会影响到投影图像上呈现内容的多少\n",
        "\n",
        "    # 这个总是被自动格式化成这样很丑\n",
        "    rot_mat = np.array([[\n",
        "        np.cos(gamma) * np.cos(beta),\n",
        "        np.cos(gamma) * np.sin(beta) * np.sin(alpha) -\n",
        "        np.sin(gamma) * np.cos(alpha),\n",
        "        np.cos(gamma) * np.sin(beta) * np.cos(alpha) +\n",
        "        np.sin(gamma) * np.sin(alpha)\n",
        "    ],\n",
        "                        [\n",
        "                            np.sin(gamma) * np.cos(beta),\n",
        "                            np.sin(gamma) * np.sin(beta) * np.sin(alpha) +\n",
        "                            np.cos(gamma) * np.cos(alpha),\n",
        "                            np.sin(gamma) * np.sin(beta) * np.cos(alpha) -\n",
        "                            np.cos(gamma) * np.sin(alpha)\n",
        "                        ],\n",
        "                        [\n",
        "                            -np.sin(beta),\n",
        "                            np.cos(beta) * np.sin(alpha),\n",
        "                            np.cos(beta) * np.cos(alpha)\n",
        "                        ]])\n",
        "\n",
        "    # 即把目标图像平铺在xy平面上（图片中心在O，所以注意坐标的范围）\n",
        "    # 遍历每一个像素点，得到在球上的交点坐标，再由球面投影的逆变换对应到原图像上的像素点\n",
        "    for pix_proj in np.ndindex(arr_proj.shape[:2]):\n",
        "        pix_img = projection(pix_proj, r, h_img, w_img, h_proj, w_proj)\n",
        "        arr_proj[pix_proj] = arr_img[pix_img]\n",
        "\n",
        "    pygame.mixer.music.unload()\n",
        "    pygame.mixer.music.load('dududu.mp3')\n",
        "    pygame.mixer.music.set_volume(0.8)\n",
        "    pygame.mixer.music.play()\n",
        "\n",
        "    Image.fromarray(arr_proj).show()  # 注释掉这行可以不弹出显示\n",
        "    # Image.fromarray(arr_proj).save(path_proj)  # 注释掉这行可以不输出文件\n"
      ]
    },
    {
      "cell_type": "code",
      "source": [],
      "metadata": {
        "id": "mT7esSdG26q4"
      },
      "execution_count": null,
      "outputs": []
    }
  ]
}