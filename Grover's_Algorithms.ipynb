{
 "cells": [
  {
   "cell_type": "markdown",
   "metadata": {
    "id": "p_Su_ifpzLxO"
   },
   "source": [
    "# Grover's Algorithms  (작성중)\n",
    "\n",
    "Classical한 Search Algorithm을 사용할 경우 O(N) 만큼의 복잡도를 가지지만\n",
    "\n",
    "Quantum Computing 에서 Grover Algorithm 을 사용한다면 O(N^1/2) 의 시간복잡도로 획기적으로 시간을 단축 할 수 있다.\n"
   ]
  },
  {
   "cell_type": "code",
   "execution_count": 1,
   "metadata": {
    "colab": {
     "base_uri": "https://localhost:8080/"
    },
    "id": "tFLKrgI-u1AF",
    "outputId": "2cbafa36-17a6-4402-d61b-f1a90231fc60"
   },
   "outputs": [
    {
     "name": "stdout",
     "output_type": "stream",
     "text": [
      "Requirement already satisfied: qiskit in /home/sun/anaconda3/lib/python3.7/site-packages (0.43.3)\n",
      "Requirement already satisfied: ipywidgets in /home/sun/anaconda3/lib/python3.7/site-packages (8.1.0)\n",
      "Requirement already satisfied: qiskit-aer==0.12.2 in /home/sun/anaconda3/lib/python3.7/site-packages (from qiskit) (0.12.2)\n",
      "Requirement already satisfied: qiskit-ibmq-provider==0.20.2 in /home/sun/anaconda3/lib/python3.7/site-packages (from qiskit) (0.20.2)\n",
      "Requirement already satisfied: qiskit-terra==0.24.2 in /home/sun/anaconda3/lib/python3.7/site-packages (from qiskit) (0.24.2)\n",
      "Requirement already satisfied: numpy>=1.16.3 in /home/sun/anaconda3/lib/python3.7/site-packages (from qiskit-aer==0.12.2->qiskit) (1.21.6)\n",
      "Requirement already satisfied: scipy>=1.0 in /home/sun/anaconda3/lib/python3.7/site-packages (from qiskit-aer==0.12.2->qiskit) (1.5.4)\n",
      "Requirement already satisfied: websockets>=10.0 in /home/sun/anaconda3/lib/python3.7/site-packages (from qiskit-ibmq-provider==0.20.2->qiskit) (11.0.3)\n",
      "Requirement already satisfied: requests-ntlm<=1.1.0 in /home/sun/anaconda3/lib/python3.7/site-packages (from qiskit-ibmq-provider==0.20.2->qiskit) (1.1.0)\n",
      "Requirement already satisfied: python-dateutil>=2.8.0 in /home/sun/anaconda3/lib/python3.7/site-packages (from qiskit-ibmq-provider==0.20.2->qiskit) (2.8.2)\n",
      "Requirement already satisfied: urllib3>=1.21.1 in /home/sun/anaconda3/lib/python3.7/site-packages (from qiskit-ibmq-provider==0.20.2->qiskit) (1.26.7)\n",
      "Requirement already satisfied: requests>=2.19 in /home/sun/anaconda3/lib/python3.7/site-packages (from qiskit-ibmq-provider==0.20.2->qiskit) (2.31.0)\n",
      "Requirement already satisfied: websocket-client>=1.5.1 in /home/sun/anaconda3/lib/python3.7/site-packages (from qiskit-ibmq-provider==0.20.2->qiskit) (1.6.1)\n",
      "Requirement already satisfied: psutil>=5 in /home/sun/anaconda3/lib/python3.7/site-packages (from qiskit-terra==0.24.2->qiskit) (5.9.5)\n",
      "Requirement already satisfied: sympy>=1.3 in /home/sun/anaconda3/lib/python3.7/site-packages (from qiskit-terra==0.24.2->qiskit) (1.10.1)\n",
      "Requirement already satisfied: rustworkx>=0.12.0 in /home/sun/anaconda3/lib/python3.7/site-packages (from qiskit-terra==0.24.2->qiskit) (0.13.0)\n",
      "Requirement already satisfied: ply>=3.10 in /home/sun/anaconda3/lib/python3.7/site-packages (from qiskit-terra==0.24.2->qiskit) (3.11)\n",
      "Requirement already satisfied: importlib-metadata<5.0 in /home/sun/anaconda3/lib/python3.7/site-packages (from qiskit-terra==0.24.2->qiskit) (4.8.2)\n",
      "Requirement already satisfied: stevedore>=3.0.0 in /home/sun/anaconda3/lib/python3.7/site-packages (from qiskit-terra==0.24.2->qiskit) (3.5.2)\n",
      "Requirement already satisfied: singledispatchmethod in /home/sun/anaconda3/lib/python3.7/site-packages (from qiskit-terra==0.24.2->qiskit) (1.0)\n",
      "Requirement already satisfied: dill>=0.3 in /home/sun/anaconda3/lib/python3.7/site-packages (from qiskit-terra==0.24.2->qiskit) (0.3.7)\n",
      "Requirement already satisfied: shared-memory38 in /home/sun/anaconda3/lib/python3.7/site-packages (from qiskit-terra==0.24.2->qiskit) (0.1.2)\n",
      "Requirement already satisfied: typing-extensions in /home/sun/anaconda3/lib/python3.7/site-packages (from qiskit-terra==0.24.2->qiskit) (4.7.1)\n",
      "Requirement already satisfied: symengine<0.10,>=0.9 in /home/sun/anaconda3/lib/python3.7/site-packages (from qiskit-terra==0.24.2->qiskit) (0.9.2)\n",
      "Requirement already satisfied: ipython>=6.1.0 in /home/sun/anaconda3/lib/python3.7/site-packages (from ipywidgets) (7.34.0)\n",
      "Requirement already satisfied: jupyterlab-widgets~=3.0.7 in /home/sun/anaconda3/lib/python3.7/site-packages (from ipywidgets) (3.0.8)\n",
      "Requirement already satisfied: comm>=0.1.3 in /home/sun/anaconda3/lib/python3.7/site-packages (from ipywidgets) (0.1.4)\n",
      "Requirement already satisfied: widgetsnbextension~=4.0.7 in /home/sun/anaconda3/lib/python3.7/site-packages (from ipywidgets) (4.0.8)\n",
      "Requirement already satisfied: traitlets>=4.3.1 in /home/sun/anaconda3/lib/python3.7/site-packages (from ipywidgets) (5.9.0)\n",
      "Requirement already satisfied: zipp>=0.5 in /home/sun/anaconda3/lib/python3.7/site-packages (from importlib-metadata<5.0->qiskit-terra==0.24.2->qiskit) (3.7.0)\n",
      "Requirement already satisfied: pexpect>4.3 in /home/sun/anaconda3/lib/python3.7/site-packages (from ipython>=6.1.0->ipywidgets) (4.8.0)\n",
      "Requirement already satisfied: setuptools>=18.5 in /home/sun/anaconda3/lib/python3.7/site-packages (from ipython>=6.1.0->ipywidgets) (68.0.0)\n",
      "Requirement already satisfied: prompt-toolkit!=3.0.0,!=3.0.1,<3.1.0,>=2.0.0 in /home/sun/anaconda3/lib/python3.7/site-packages (from ipython>=6.1.0->ipywidgets) (3.0.39)\n",
      "Requirement already satisfied: pygments in /home/sun/anaconda3/lib/python3.7/site-packages (from ipython>=6.1.0->ipywidgets) (2.16.1)\n",
      "Requirement already satisfied: pickleshare in /home/sun/anaconda3/lib/python3.7/site-packages (from ipython>=6.1.0->ipywidgets) (0.7.5)\n",
      "Requirement already satisfied: decorator in /home/sun/anaconda3/lib/python3.7/site-packages (from ipython>=6.1.0->ipywidgets) (5.1.1)\n",
      "Requirement already satisfied: backcall in /home/sun/anaconda3/lib/python3.7/site-packages (from ipython>=6.1.0->ipywidgets) (0.2.0)\n",
      "Requirement already satisfied: matplotlib-inline in /home/sun/anaconda3/lib/python3.7/site-packages (from ipython>=6.1.0->ipywidgets) (0.1.2)\n",
      "Requirement already satisfied: jedi>=0.16 in /home/sun/anaconda3/lib/python3.7/site-packages (from ipython>=6.1.0->ipywidgets) (0.19.0)\n",
      "Requirement already satisfied: parso<0.9.0,>=0.8.3 in /home/sun/anaconda3/lib/python3.7/site-packages (from jedi>=0.16->ipython>=6.1.0->ipywidgets) (0.8.3)\n",
      "Requirement already satisfied: ptyprocess>=0.5 in /home/sun/anaconda3/lib/python3.7/site-packages (from pexpect>4.3->ipython>=6.1.0->ipywidgets) (0.7.0)\n",
      "Requirement already satisfied: wcwidth in /home/sun/anaconda3/lib/python3.7/site-packages (from prompt-toolkit!=3.0.0,!=3.0.1,<3.1.0,>=2.0.0->ipython>=6.1.0->ipywidgets) (0.2.6)\n",
      "Requirement already satisfied: six>=1.5 in /home/sun/anaconda3/lib/python3.7/site-packages (from python-dateutil>=2.8.0->qiskit-ibmq-provider==0.20.2->qiskit) (1.16.0)\n",
      "Requirement already satisfied: certifi>=2017.4.17 in /home/sun/anaconda3/lib/python3.7/site-packages (from requests>=2.19->qiskit-ibmq-provider==0.20.2->qiskit) (2021.10.8)\n",
      "Requirement already satisfied: charset-normalizer<4,>=2 in /home/sun/anaconda3/lib/python3.7/site-packages (from requests>=2.19->qiskit-ibmq-provider==0.20.2->qiskit) (2.0.4)\n",
      "Requirement already satisfied: idna<4,>=2.5 in /home/sun/anaconda3/lib/python3.7/site-packages (from requests>=2.19->qiskit-ibmq-provider==0.20.2->qiskit) (3.3)\n",
      "Requirement already satisfied: cryptography>=1.3 in /home/sun/anaconda3/lib/python3.7/site-packages (from requests-ntlm<=1.1.0->qiskit-ibmq-provider==0.20.2->qiskit) (3.4.8)\n",
      "Requirement already satisfied: ntlm-auth>=1.0.2 in /home/sun/anaconda3/lib/python3.7/site-packages (from requests-ntlm<=1.1.0->qiskit-ibmq-provider==0.20.2->qiskit) (1.5.0)\n",
      "Requirement already satisfied: cffi>=1.12 in /home/sun/anaconda3/lib/python3.7/site-packages (from cryptography>=1.3->requests-ntlm<=1.1.0->qiskit-ibmq-provider==0.20.2->qiskit) (1.14.6)\n",
      "Requirement already satisfied: pycparser in /home/sun/anaconda3/lib/python3.7/site-packages (from cffi>=1.12->cryptography>=1.3->requests-ntlm<=1.1.0->qiskit-ibmq-provider==0.20.2->qiskit) (2.21)\n",
      "Requirement already satisfied: pbr!=2.1.0,>=2.0.0 in /home/sun/anaconda3/lib/python3.7/site-packages (from stevedore>=3.0.0->qiskit-terra==0.24.2->qiskit) (5.11.1)\n",
      "Requirement already satisfied: mpmath>=0.19 in /home/sun/anaconda3/lib/python3.7/site-packages (from sympy>=1.3->qiskit-terra==0.24.2->qiskit) (1.3.0)\n"
     ]
    }
   ],
   "source": [
    "!pip install qiskit ipywidgets"
   ]
  },
  {
   "cell_type": "code",
   "execution_count": 2,
   "metadata": {
    "colab": {
     "base_uri": "https://localhost:8080/"
    },
    "id": "vOE-I-ttu6Rh",
    "outputId": "213fd24b-0b5c-4455-89ac-2b198dfc0fba"
   },
   "outputs": [
    {
     "name": "stdout",
     "output_type": "stream",
     "text": [
      "Requirement already satisfied: pylatexenc in /home/sun/anaconda3/lib/python3.7/site-packages (2.10)\r\n"
     ]
    }
   ],
   "source": [
    "!pip install pylatexenc"
   ]
  },
  {
   "cell_type": "code",
   "execution_count": 3,
   "metadata": {
    "id": "Kd9WsdLavJT2"
   },
   "outputs": [],
   "source": [
    "import qiskit"
   ]
  },
  {
   "cell_type": "code",
   "execution_count": 4,
   "metadata": {
    "colab": {
     "base_uri": "https://localhost:8080/"
    },
    "id": "PhUA83AVvLHh",
    "outputId": "c7a78b4b-5ccf-4770-a799-7814d15fa171"
   },
   "outputs": [],
   "source": [
    "from qiskit import QuantumCircuit\n",
    "from qiskit.algorithms import AmplificationProblem"
   ]
  },
  {
   "cell_type": "code",
   "execution_count": 7,
   "metadata": {
    "colab": {
     "base_uri": "https://localhost:8080/",
     "height": 203
    },
    "id": "MnEv3IpbvRhM",
    "outputId": "5ab5a84c-adde-4e8c-e19b-8a89b1966f84"
   },
   "outputs": [
    {
     "data": {
      "image/png": "[encoded data removed]",
      "text/plain": [
       "<Figure size 843.845x200.667 with 1 Axes>"
      ]
     },
     "execution_count": 7,
     "metadata": {},
     "output_type": "execute_result"
    }
   ],
   "source": [
    "good_state = ['11']\n",
    "\n",
    "oracle = QuantumCircuit(2)\n",
    "oracle.cz(0,1)\n",
    "oracle.draw('mpl')\n",
    "\n",
    "# Define Grover's algorithm\n",
    "problem = AmplificationProblem(oracle, is_good_state=good_state)\n",
    "\n",
    "# Grover operator that is used in running the algorithm\n",
    "\n",
    "# decompose\n",
    "problem.grover_operator.decompose().draw(output='mpl')"
   ]
  },
  {
   "cell_type": "code",
   "execution_count": 8,
   "metadata": {
    "colab": {
     "base_uri": "https://localhost:8080/"
    },
    "id": "3aBBSfN2vZ_P",
    "outputId": "5afbb789-f214-4eba-868e-c74a8e617c1f"
   },
   "outputs": [
    {
     "name": "stdout",
     "output_type": "stream",
     "text": [
      "Result type :  <class 'qiskit.algorithms.amplitude_amplifiers.grover.GroverResult'>\n",
      "\n",
      "Success! \n",
      "Top measurement : 11\n"
     ]
    }
   ],
   "source": [
    "from qiskit.algorithms import Grover\n",
    "from qiskit.primitives import Sampler\n",
    "\n",
    "grover = Grover(sampler=Sampler())\n",
    "result = grover.amplify(problem)\n",
    "\n",
    "print('Result type : ', type(result))\n",
    "print()\n",
    "print('Success! ' if result.oracle_evaluation else 'Failure!')\n",
    "print('Top measurement :', result.top_measurement)"
   ]
  },
  {
   "cell_type": "code",
   "execution_count": 9,
   "metadata": {
    "colab": {
     "base_uri": "https://localhost:8080/"
    },
    "id": "2fSDyPN0wWTr",
    "outputId": "888c8c89-a1cb-472e-83bf-9e3e60eb0342"
   },
   "outputs": [
    {
     "name": "stdout",
     "output_type": "stream",
     "text": [
      "Result type :  <class 'qiskit.algorithms.amplitude_amplifiers.grover.GroverResult'>\n",
      "\n",
      "Success! \n",
      "Top measurement : 11\n"
     ]
    }
   ],
   "source": [
    "from qiskit.quantum_info import Statevector\n",
    "oracle = Statevector.from_label('11')\n",
    "problem = AmplificationProblem(oracle, is_good_state=['11'])\n",
    "\n",
    "grover = Grover(sampler=Sampler())\n",
    "result = grover.amplify(problem)\n",
    "\n",
    "print('Result type : ', type(result))\n",
    "print()\n",
    "print('Success! ' if result.oracle_evaluation else 'Failure!')\n",
    "print('Top measurement :', result.top_measurement)"
   ]
  },
  {
   "cell_type": "code",
   "execution_count": 10,
   "metadata": {
    "colab": {
     "base_uri": "https://localhost:8080/",
     "height": 204
    },
    "id": "DVFf-u_Hw5tR",
    "outputId": "c6d47caf-3514-40e3-bdfd-31806d62e0b3"
   },
   "outputs": [
    {
     "data": {
      "image/png": "[encoded data removed]",
      "text/plain": [
       "<Figure size 287.294x200.667 with 1 Axes>"
      ]
     },
     "execution_count": 10,
     "metadata": {},
     "output_type": "execute_result"
    }
   ],
   "source": [
    "# Statevector is mapped to a quantum circuit\n",
    "\n",
    "problem.grover_operator.oracle.decompose().draw(output='mpl')"
   ]
  },
  {
   "cell_type": "code",
   "execution_count": 1,
   "metadata": {
    "colab": {
     "base_uri": "https://localhost:8080/"
    },
    "id": "g4_9JFisxiDw",
    "outputId": "5baf5f7f-9e1d-4e3d-b9cc-c99d8543d640"
   },
   "outputs": [
    {
     "name": "stdout",
     "output_type": "stream",
     "text": [
      "Requirement already satisfied: tweedledum in /usr/local/lib/python3.10/dist-packages (1.1.1)\n"
     ]
    }
   ],
   "source": [
    "!pip install tweedledum"
   ]
  },
  {
   "cell_type": "code",
   "execution_count": 11,
   "metadata": {
    "colab": {
     "base_uri": "https://localhost:8080/",
     "height": 191
    },
    "id": "he8RchM2xDCT",
    "outputId": "6a02a13c-6856-4300-e5f2-dc97620208fc"
   },
   "outputs": [
    {
     "data": {
      "image/png": "[encoded data removed]",
      "text/plain": [
       "<Figure size 370.906x200.667 with 1 Axes>"
      ]
     },
     "metadata": {},
     "output_type": "display_data"
    }
   ],
   "source": [
    "from qiskit.circuit.library.phase_oracle import PhaseOracle\n",
    "from qiskit.exceptions import MissingOptionalLibraryError\n",
    "\n",
    "expression = '(a & b)'\n",
    "\n",
    "try:\n",
    "  oracle = PhaseOracle(expression)\n",
    "  problem = AmplificationProblem(oracle)\n",
    "  display(problem.grover_operator.oracle.decompose().draw(output='mpl'))\n",
    "except MissingOptionalLibraryError as ex:\n",
    "  print(ex)"
   ]
  },
  {
   "cell_type": "code",
   "execution_count": 13,
   "metadata": {
    "colab": {
     "base_uri": "https://localhost:8080/",
     "height": 273
    },
    "id": "X2pVGZQLxfYc",
    "outputId": "0e046737-df44-439f-af5f-681b1d2d64ff"
   },
   "outputs": [
    {
     "name": "stdout",
     "output_type": "stream",
     "text": [
      "state preparation circuit : \n"
     ]
    },
    {
     "data": {
      "image/png": "[encoded data removed]",
      "text/plain": [
       "<Figure size 371.107x284.278 with 1 Axes>"
      ]
     },
     "execution_count": 13,
     "metadata": {},
     "output_type": "execute_result"
    }
   ],
   "source": [
    "import numpy as np\n",
    "\n",
    "oracle = QuantumCircuit(3)\n",
    "oracle.ccz(0,1,2)\n",
    "\n",
    "theta = 2 * np.arccos(1 / np.sqrt(3))\n",
    "state_preparation = QuantumCircuit(3)\n",
    "state_preparation.ry(theta, 0)\n",
    "state_preparation.ch(0,1)\n",
    "state_preparation.x(1)\n",
    "state_preparation.h(2)\n",
    "\n",
    "# only care about the first two bits being in state 1\n",
    "# thus add both possibilities for the last qubit\n",
    "\n",
    "problem = AmplificationProblem(oracle, state_preparation=state_preparation,\n",
    "                               is_good_state=['110','111'])\n",
    "\n",
    "print('state preparation circuit : ')\n",
    "problem.grover_operator.state_preparation.draw(output='mpl')"
   ]
  },
  {
   "cell_type": "code",
   "execution_count": 14,
   "metadata": {
    "colab": {
     "base_uri": "https://localhost:8080/"
    },
    "id": "KH7m3QE9ycwJ",
    "outputId": "1e4034cf-7a8e-4c4d-a1f9-299e32cb0e8a"
   },
   "outputs": [
    {
     "name": "stdout",
     "output_type": "stream",
     "text": [
      "Success!\n",
      "Top measurement : 111\n"
     ]
    }
   ],
   "source": [
    "grover = Grover(sampler=Sampler())\n",
    "result = grover.amplify(problem)\n",
    "\n",
    "print('Success!' if result.oracle_evaluation else 'Failure!')\n",
    "print('Top measurement :', result.top_measurement)"
   ]
  },
  {
   "cell_type": "code",
   "execution_count": 15,
   "metadata": {
    "colab": {
     "base_uri": "https://localhost:8080/",
     "height": 384
    },
    "id": "Gz8Lr2-wzBFX",
    "outputId": "a85cfca1-197a-4bfd-eddc-c4d67afd39c6"
   },
   "outputs": [
    {
     "data": {
      "image/png": "[encoded data removed]",
      "text/plain": [
       "<Figure size 203.885x451.5 with 1 Axes>"
      ]
     },
     "execution_count": 15,
     "metadata": {},
     "output_type": "execute_result"
    }
   ],
   "source": [
    "oracle = QuantumCircuit(5)\n",
    "oracle.ccz(0, 1, 2)\n",
    "oracle.draw(output='mpl')"
   ]
  },
  {
   "cell_type": "code",
   "execution_count": 16,
   "metadata": {
    "colab": {
     "base_uri": "https://localhost:8080/",
     "height": 384
    },
    "id": "8RBq4Dp_zGmb",
    "outputId": "9c7b6f6e-fb93-47b8-f391-a532cdf08fde"
   },
   "outputs": [
    {
     "data": {
      "image/png": "[encoded data removed]",
      "text/plain": [
       "<Figure size 1094.88x451.5 with 1 Axes>"
      ]
     },
     "execution_count": 16,
     "metadata": {},
     "output_type": "execute_result"
    }
   ],
   "source": [
    "from qiskit.circuit.library import GroverOperator\n",
    "grover_op = GroverOperator(oracle, insert_barriers=True)\n",
    "grover_op.decompose().draw(output='mpl')"
   ]
  },
  {
   "cell_type": "code",
   "execution_count": 17,
   "metadata": {
    "colab": {
     "base_uri": "https://localhost:8080/",
     "height": 384
    },
    "id": "u4o0MLjLz-ZE",
    "outputId": "9258f1e1-974d-4381-c805-804d7760bf49"
   },
   "outputs": [
    {
     "data": {
      "image/png": "[encoded data removed]",
      "text/plain": [
       "<Figure size 1094.88x451.5 with 1 Axes>"
      ]
     },
     "execution_count": 17,
     "metadata": {},
     "output_type": "execute_result"
    }
   ],
   "source": [
    "grover_op = GroverOperator(oracle, reflection_qubits=[0,1,2], insert_barriers=True)\n",
    "grover_op.decompose().draw(output='mpl')"
   ]
  },
  {
   "cell_type": "code",
   "execution_count": 20,
   "metadata": {
    "colab": {
     "base_uri": "https://localhost:8080/"
    },
    "id": "NU3D_nv90G3c",
    "outputId": "952a3b3f-9c9e-426a-fa95-f417a2568193"
   },
   "outputs": [
    {
     "name": "stdout",
     "output_type": "stream",
     "text": [
      "True\n"
     ]
    }
   ],
   "source": [
    "# Dive into other arguments of Grover\n",
    "\n",
    "# a list of binary strings good state\n",
    "\n",
    "oracle = QuantumCircuit(2)\n",
    "oracle.cz(0, 1)\n",
    "\n",
    "good_state = ['11','00']\n",
    "\n",
    "problem = AmplificationProblem(oracle, is_good_state=good_state)\n",
    "\n",
    "print(problem.is_good_state('11'))"
   ]
  },
  {
   "cell_type": "code",
   "execution_count": 21,
   "metadata": {
    "colab": {
     "base_uri": "https://localhost:8080/"
    },
    "id": "Fa_r_aOY0ZlE",
    "outputId": "f2f63485-33cd-4d2a-d20a-94cc7a16273c"
   },
   "outputs": [
    {
     "name": "stdout",
     "output_type": "stream",
     "text": [
      "True\n"
     ]
    }
   ],
   "source": [
    "oracle = QuantumCircuit(2)\n",
    "oracle.cz(0 ,1)\n",
    "good_state = [0, 1]\n",
    "problem == AmplificationProblem(oracle, is_good_state=good_state)\n",
    "print(problem.is_good_state('11'))"
   ]
  },
  {
   "cell_type": "code",
   "execution_count": 22,
   "metadata": {
    "colab": {
     "base_uri": "https://localhost:8080/"
    },
    "id": "aEF5Z8jC2YOl",
    "outputId": "3d3523aa-6310-4c5c-ca2a-ad32d9b825f9"
   },
   "outputs": [
    {
     "name": "stdout",
     "output_type": "stream",
     "text": [
      "True\n"
     ]
    }
   ],
   "source": [
    "from qiskit.quantum_info import Statevector\n",
    "\n",
    "oracle = QuantumCircuit(2)\n",
    "oracle.cz(0, 1)\n",
    "good_state = Statevector.from_label('11')\n",
    "problem = AmplificationProblem(oracle, is_good_state=good_state)\n",
    "print(problem.is_good_state('11'))"
   ]
  },
  {
   "cell_type": "code",
   "execution_count": 23,
   "metadata": {
    "colab": {
     "base_uri": "https://localhost:8080/"
    },
    "id": "jTB6DAt-2mm4",
    "outputId": "01e3099f-0db7-48ca-fa19-a796634a2070"
   },
   "outputs": [
    {
     "name": "stdout",
     "output_type": "stream",
     "text": [
      "True\n"
     ]
    }
   ],
   "source": [
    "def callable_good_state(bitstr):\n",
    "  if bitstr == \"11\":\n",
    "    return True\n",
    "  return False\n",
    "\n",
    "oracle = QuantumCircuit(2)\n",
    "oracle.cz(0, 1)\n",
    "problem = AmplificationProblem(oracle, is_good_state=good_state)\n",
    "print(problem.is_good_state('11'))"
   ]
  },
  {
   "cell_type": "code",
   "execution_count": 25,
   "metadata": {
    "id": "ohdbqS_G21aQ"
   },
   "outputs": [],
   "source": [
    "oracle = QuantumCircuit(2)\n",
    "oracle.cz(0, 1)\n",
    "oracle.draw('mpl')\n",
    "problem = AmplificationProblem(oracle, is_good_state=['11'])\n",
    "grover = Grover(iterations=1)"
   ]
  },
  {
   "cell_type": "code",
   "execution_count": 26,
   "metadata": {
    "id": "rkHVQtaU27G9"
   },
   "outputs": [],
   "source": [
    "oracle = QuantumCircuit(2)\n",
    "oracle.cz(0, 1)\n",
    "problem = AmplificationProblem(oracle, is_good_state=['11'])\n",
    "grover = Grover(iterations=[1,2,3])"
   ]
  },
  {
   "cell_type": "code",
   "execution_count": 27,
   "metadata": {
    "id": "TCk2Im9q3KC9"
   },
   "outputs": [],
   "source": [
    "oracle = QuantumCircuit(2)\n",
    "oracle.cz(0, 1)\n",
    "problem = AmplificationProblem(oracle, is_good_state=['11'])\n",
    "grover = Grover(iterations=[1,2,3], sample_from_iterations=True)"
   ]
  },
  {
   "cell_type": "code",
   "execution_count": 28,
   "metadata": {
    "colab": {
     "base_uri": "https://localhost:8080/"
    },
    "id": "hTIRAvAb3Nts",
    "outputId": "be9907e4-3b0b-4950-efbc-94ea5552125a"
   },
   "outputs": [
    {
     "data": {
      "text/plain": [
       "12"
      ]
     },
     "execution_count": 28,
     "metadata": {},
     "output_type": "execute_result"
    }
   ],
   "source": [
    "iterations = Grover.optimal_num_iterations(num_solutions=1, num_qubits=8)\n",
    "iterations"
   ]
  },
  {
   "cell_type": "code",
   "execution_count": 29,
   "metadata": {
    "colab": {
     "base_uri": "https://localhost:8080/"
    },
    "id": "SFiZ3nSb3Sus",
    "outputId": "e5f526c7-fa0a-47a0-ad3b-d66b535ddb6b"
   },
   "outputs": [
    {
     "data": {
      "text/plain": [
       "[1, -2, 3]"
      ]
     },
     "execution_count": 29,
     "metadata": {},
     "output_type": "execute_result"
    }
   ],
   "source": [
    "# post_processing\n",
    "\n",
    "def to_DIAMACS_CNF_format(bit_rep):\n",
    "  return [index+1 if val==1 else -1 * (index + 1) for index, val in enumerate(bit_rep)]\n",
    "\n",
    "oracle = QuantumCircuit(2)\n",
    "oracle.cz(0, 1)\n",
    "problem = AmplificationProblem(oracle, is_good_state=['11'], post_processing=to_DIAMACS_CNF_format)\n",
    "problem.post_processing(([1, 0, 1]))"
   ]
  },
  {
   "cell_type": "markdown",
   "metadata": {
    "id": "2vY2Zpgi3up9"
   },
   "source": [
    "# Colab 에서 버전 정보 확인\n",
    "연구실에서 vscode jupyter notebook kernel 비교해보기.,,"
   ]
  },
  {
   "cell_type": "code",
   "execution_count": 30,
   "metadata": {
    "colab": {
     "base_uri": "https://localhost:8080/",
     "height": 297
    },
    "id": "tfR56eVu3snZ",
    "outputId": "6e12e0dd-82a0-4b8c-c834-fc125655d0c2",
    "scrolled": true
   },
   "outputs": [
    {
     "data": {
      "text/html": [
       "<h3>Version Information</h3><table><tr><th>Software</th><th>Version</th></tr><tr><td><code>qiskit</code></td><td>0.44.0</td></tr><tr><td><code>qiskit-terra</code></td><td>0.25.0</td></tr><tr><th colspan='2'>System information</th></tr><tr><td>Python version</td><td>3.10.12</td></tr><tr><td>Python compiler</td><td>GCC 11.4.0</td></tr><tr><td>Python build</td><td>main, Jun 11 2023 05:26:28</td></tr><tr><td>OS</td><td>Linux</td></tr><tr><td>CPUs</td><td>1</td></tr><tr><td>Memory (Gb)</td><td>12.678386688232422</td></tr><tr><td colspan='2'>Tue Aug 08 15:59:22 2023 UTC</td></tr></table>"
      ],
      "text/plain": [
       "<IPython.core.display.HTML object>"
      ]
     },
     "metadata": {},
     "output_type": "display_data"
    }
   ],
   "source": [
    "import qiskit.tools.jupyter\n",
    "%qiskit_version_table"
   ]
  },
  {
   "cell_type": "code",
   "execution_count": 5,
   "metadata": {},
   "outputs": [
    {
     "data": {
      "text/html": [
       "<h3>Version Information</h3><table><tr><th>Qiskit Software</th><th>Version</th></tr><tr><td><code>qiskit-terra</code></td><td>0.24.2</td></tr><tr><td><code>qiskit-aer</code></td><td>0.12.2</td></tr><tr><td><code>qiskit-ignis</code></td><td>0.7.1</td></tr><tr><td><code>qiskit-ibmq-provider</code></td><td>0.20.2</td></tr><tr><td><code>qiskit</code></td><td>0.43.3</td></tr><tr><th>System information</th></tr><tr><td>Python version</td><td>3.7.11</td></tr><tr><td>Python compiler</td><td>GCC 7.5.0</td></tr><tr><td>Python build</td><td>default, Jul 27 2021 14:32:16</td></tr><tr><td>OS</td><td>Linux</td></tr><tr><td>CPUs</td><td>4</td></tr><tr><td>Memory (Gb)</td><td>15.59710693359375</td></tr><tr><td colspan='2'>Thu Aug 17 12:06:36 2023 KST</td></tr></table>"
      ],
      "text/plain": [
       "<IPython.core.display.HTML object>"
      ]
     },
     "metadata": {},
     "output_type": "display_data"
    }
   ],
   "source": [
    "import qiskit.tools.jupyter\n",
    "%qiskit_version_table"
   ]
  },
  {
   "cell_type": "markdown",
   "metadata": {},
   "source": [
    "# Qiskit Implementation\n",
    "\n",
    "### Implement Grover's algorithm for the case of 2 qubits for |w> = |11>"
   ]
  },
  {
   "cell_type": "code",
   "execution_count": 7,
   "metadata": {},
   "outputs": [],
   "source": [
    "# initialization\n",
    "import matplotlib.pyplot as plt\n",
    "import numpy as np\n",
    "import math\n",
    "\n",
    "# importing Qiskit\n",
    "from qiskit import IBMQ, Aer, transpile, execute\n",
    "from qiskit import QuantumCircuit, ClassicalRegister, QuantumRegister\n",
    "from qiskit.providers.ibmq import least_busy\n",
    "\n",
    "# import basic plot tools\n",
    "from qiskit.visualization import plot_histogram"
   ]
  },
  {
   "cell_type": "markdown",
   "metadata": {},
   "source": [
    "We start by preparing a quantum circuit with two qubits:"
   ]
  },
  {
   "cell_type": "code",
   "execution_count": 16,
   "metadata": {},
   "outputs": [
    {
     "data": {
      "image/png": "[encoded data removed]",
      "text/plain": [
       "<Figure size 116.552x144.48 with 1 Axes>"
      ]
     },
     "execution_count": 16,
     "metadata": {},
     "output_type": "execute_result"
    }
   ],
   "source": [
    "n = 2\n",
    "grover_circuit = QuantumCircuit(n)\n",
    "grover_circuit.draw('mpl')"
   ]
  },
  {
   "cell_type": "markdown",
   "metadata": {},
   "source": [
    "Then we simply need to write out the commands for the circuit depicted above.\n",
    "First, we need to initialize the state |s>.\n",
    "Let's create a general function (for any number of qubits) so we can use it again later:"
   ]
  },
  {
   "cell_type": "code",
   "execution_count": 17,
   "metadata": {},
   "outputs": [],
   "source": [
    "def initialize_s(qc, qubits):\n",
    "    \"\"\"Apply a H-gate to 'qubits' in qc\"\"\"\n",
    "    for q in qubits:\n",
    "        qc.h(q)\n",
    "    return qc"
   ]
  },
  {
   "cell_type": "code",
   "execution_count": 18,
   "metadata": {},
   "outputs": [
    {
     "data": {
      "image/png": "[encoded data removed]",
      "text/plain": [
       "<Figure size 146.652x144.48 with 1 Axes>"
      ]
     },
     "execution_count": 18,
     "metadata": {},
     "output_type": "execute_result"
    }
   ],
   "source": [
    "grover_circuit = initialize_s(grover_circuit, [0,1])\n",
    "grover_circuit.draw('mpl')"
   ]
  },
  {
   "cell_type": "markdown",
   "metadata": {},
   "source": [
    "### Apply the Oracle for |w> = |10>\n",
    "* qiskit에서는 |w> = |11> 으로 설명되어 있었는데 |10>으로 oracle 작성"
   ]
  },
  {
   "cell_type": "code",
   "execution_count": 19,
   "metadata": {},
   "outputs": [
    {
     "data": {
      "image/png": "[encoded data removed]",
      "text/plain": [
       "<Figure size 447.652x144.48 with 1 Axes>"
      ]
     },
     "execution_count": 19,
     "metadata": {},
     "output_type": "execute_result"
    }
   ],
   "source": [
    "# oracle\n",
    "grover_circuit.barrier()\n",
    "grover_circuit.x(0)\n",
    "grover_circuit.cz(0,1)\n",
    "grover_circuit.x(0)\n",
    "grover_circuit.barrier()\n",
    "grover_circuit.draw('mpl')"
   ]
  },
  {
   "cell_type": "markdown",
   "metadata": {},
   "source": [
    "## Apply the diffuser Us"
   ]
  },
  {
   "cell_type": "code",
   "execution_count": 20,
   "metadata": {},
   "outputs": [
    {
     "data": {
      "image/png": "[encoded data removed]",
      "text/plain": [
       "<Figure size 748.652x144.48 with 1 Axes>"
      ]
     },
     "execution_count": 20,
     "metadata": {},
     "output_type": "execute_result"
    }
   ],
   "source": [
    "# Diffusion operator(U_s)\n",
    "grover_circuit.h([0,1])\n",
    "grover_circuit.z([0,1])\n",
    "grover_circuit.cz(0,1)\n",
    "grover_circuit.h([0,1])\n",
    "grover_circuit.barrier()\n",
    "grover_circuit.draw('mpl')"
   ]
  },
  {
   "cell_type": "markdown",
   "metadata": {},
   "source": [
    "# Experiment with Simulators"
   ]
  },
  {
   "cell_type": "code",
   "execution_count": 21,
   "metadata": {},
   "outputs": [
    {
     "data": {
      "text/latex": [
       "$$\n",
       "|\\psi\\rangle =\n",
       "\\begin{bmatrix}\n",
       "0 & 0 & 1 & 0  \\\\\n",
       " \\end{bmatrix}\n",
       "$$"
      ],
      "text/plain": [
       "<IPython.core.display.Latex object>"
      ]
     },
     "execution_count": 21,
     "metadata": {},
     "output_type": "execute_result"
    }
   ],
   "source": [
    "sv_sim = Aer.get_backend('statevector_simulator')\n",
    "result = sv_sim.run(grover_circuit).result()\n",
    "statevec = result.get_statevector()\n",
    "from qiskit.visualization import array_to_latex\n",
    "array_to_latex(statevec, prefix=\"|\\\\psi\\\\rangle =\")"
   ]
  },
  {
   "cell_type": "code",
   "execution_count": 22,
   "metadata": {},
   "outputs": [
    {
     "data": {
      "image/png": "[encoded data removed]",
      "text/plain": [
       "<Figure size 504x360 with 1 Axes>"
      ]
     },
     "execution_count": 22,
     "metadata": {},
     "output_type": "execute_result"
    }
   ],
   "source": [
    "grover_circuit.measure_all()\n",
    "\n",
    "qasm_sim = Aer.get_backend('qasm_simulator')\n",
    "result = qasm_sim.run(grover_circuit).result()\n",
    "counts = result.get_counts()\n",
    "plot_histogram(counts)"
   ]
  }
 ],
 "metadata": {
  "colab": {
   "provenance": []
  },
  "kernelspec": {
   "display_name": "Python 3 (ipykernel)",
   "language": "python",
   "name": "python3"
  },
  "language_info": {
   "codemirror_mode": {
    "name": "ipython",
    "version": 3
   },
   "file_extension": ".py",
   "mimetype": "text/x-python",
   "name": "python",
   "nbconvert_exporter": "python",
   "pygments_lexer": "ipython3",
   "version": "3.7.11"
  }
 },
 "nbformat": 4,
 "nbformat_minor": 1
}
