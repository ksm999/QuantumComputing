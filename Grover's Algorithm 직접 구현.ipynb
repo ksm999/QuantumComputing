{
 "cells": [
  {
   "cell_type": "code",
   "execution_count": 1,
   "id": "b99733b5",
   "metadata": {},
   "outputs": [],
   "source": [
    "import qiskit\n",
    "from qiskit import QuantumCircuit, execute, Aer\n",
    "from qiskit.visualization import plot_histogram, plot_bloch_multivector"
   ]
  },
  {
   "cell_type": "code",
   "execution_count": 2,
   "id": "a9ff844d",
   "metadata": {},
   "outputs": [],
   "source": [
    "def init(n):\n",
    "    circuit = QuantumCircuit(n + 1) # initial state = [0>\n",
    "    for i in range(n):\n",
    "        circuit.h(i)\n",
    "    circuit.x(n)\n",
    "    circuit.h(n)    # n+1 번째 qubit는 우리가 찾는 good_state로 가정 [1>\n",
    "    return circuit  # n = # of qubit, thus N = 2^n = 8"
   ]
  },
  {
   "cell_type": "code",
   "execution_count": 3,
   "id": "c3866727",
   "metadata": {},
   "outputs": [],
   "source": [
    "def oracle(n, x):\n",
    "    circuit = QuantumCircuit(n + 1)\n",
    "    for i in range(n):\n",
    "        if x & (1 << i) == 0:\n",
    "            circuit.x(i)\n",
    "    if n == 2:\n",
    "        circuit.ccx(0, 1, 2)\n",
    " \n",
    "    for i in range(n):\n",
    "        if x & (1 << i) == 0:\n",
    "            circuit.x(i)\n",
    "    return circuit"
   ]
  },
  {
   "cell_type": "code",
   "execution_count": 17,
   "id": "51e45608",
   "metadata": {},
   "outputs": [
    {
     "data": {
      "text/plain": [
       "<qiskit.circuit.quantumcircuit.QuantumCircuit at 0x7fec1c499bd0>"
      ]
     },
     "execution_count": 17,
     "metadata": {},
     "output_type": "execute_result"
    }
   ],
   "source": [
    "oracle(2,1)"
   ]
  },
  {
   "cell_type": "code",
   "execution_count": 4,
   "id": "8448437c",
   "metadata": {},
   "outputs": [],
   "source": [
    "def diffusion(n, x):\n",
    "    circuit = QuantumCircuit(n+1)\n",
    "    for i in range(n):\n",
    "        circuit.h(i)\n",
    "        circuit.x(i)  # h x\n",
    "    circuit.h(n)\n",
    "    if n == 2:\n",
    "        circuit.h(1)\n",
    "        circuit.cx(0,1)\n",
    "        circuit.h(1)\n",
    "    for i in range(n):\n",
    "        circuit.x(i)\n",
    "        circuit.h(i)  # x h 대칭 구조\n",
    "    return circuit"
   ]
  },
  {
   "cell_type": "code",
   "execution_count": 19,
   "id": "2a88dc95",
   "metadata": {},
   "outputs": [
    {
     "data": {
      "text/html": [
       "<pre style=\"word-wrap: normal;white-space: pre;background: #fff0;line-height: 1.1;font-family: &quot;Courier New&quot;,Courier,monospace\">     ┌───┐      ░ ┌───┐     ┌───┐ ░ ┌───┐┌───┐          ┌───┐┌───┐      ░ ┌─┐»\n",
       "q_0: ┤ H ├──────░─┤ X ├──■──┤ X ├─░─┤ H ├┤ X ├───────■──┤ X ├┤ H ├──────░─┤M├»\n",
       "     ├───┤      ░ └───┘  │  └───┘ ░ ├───┤├───┤┌───┐┌─┴─┐├───┤├───┤┌───┐ ░ └╥┘»\n",
       "q_1: ┤ H ├──────░────────■────────░─┤ H ├┤ X ├┤ H ├┤ X ├┤ H ├┤ X ├┤ H ├─░──╫─»\n",
       "     ├───┤┌───┐ ░      ┌─┴─┐      ░ ├───┤└───┘└───┘└───┘└───┘└───┘└───┘ ░  ║ »\n",
       "q_2: ┤ X ├┤ H ├─░──────┤ X ├──────░─┤ H ├───────────────────────────────░──╫─»\n",
       "     └───┘└───┘ ░      └───┘      ░ └───┘                               ░  ║ »\n",
       "c: 2/══════════════════════════════════════════════════════════════════════╩═»\n",
       "                                                                           0 »\n",
       "«        \n",
       "«q_0: ───\n",
       "«     ┌─┐\n",
       "«q_1: ┤M├\n",
       "«     └╥┘\n",
       "«q_2: ─╫─\n",
       "«      ║ \n",
       "«c: 2/═╩═\n",
       "«      1 </pre>"
      ],
      "text/plain": [
       "     ┌───┐      ░ ┌───┐     ┌───┐ ░ ┌───┐┌───┐          ┌───┐┌───┐      ░ ┌─┐»\n",
       "q_0: ┤ H ├──────░─┤ X ├──■──┤ X ├─░─┤ H ├┤ X ├───────■──┤ X ├┤ H ├──────░─┤M├»\n",
       "     ├───┤      ░ └───┘  │  └───┘ ░ ├───┤├───┤┌───┐┌─┴─┐├───┤├───┤┌───┐ ░ └╥┘»\n",
       "q_1: ┤ H ├──────░────────■────────░─┤ H ├┤ X ├┤ H ├┤ X ├┤ H ├┤ X ├┤ H ├─░──╫─»\n",
       "     ├───┤┌───┐ ░      ┌─┴─┐      ░ ├───┤└───┘└───┘└───┘└───┘└───┘└───┘ ░  ║ »\n",
       "q_2: ┤ X ├┤ H ├─░──────┤ X ├──────░─┤ H ├───────────────────────────────░──╫─»\n",
       "     └───┘└───┘ ░      └───┘      ░ └───┘                               ░  ║ »\n",
       "c: 2/══════════════════════════════════════════════════════════════════════╩═»\n",
       "                                                                           0 »\n",
       "«        \n",
       "«q_0: ───\n",
       "«     ┌─┐\n",
       "«q_1: ┤M├\n",
       "«     └╥┘\n",
       "«q_2: ─╫─\n",
       "«      ║ \n",
       "«c: 2/═╩═\n",
       "«      1 "
      ]
     },
     "execution_count": 19,
     "metadata": {},
     "output_type": "execute_result"
    }
   ],
   "source": [
    "n = 2\n",
    "x = 2\n",
    "circuit = QuantumCircuit(3, 2)\n",
    "circuit &= init(n)\n",
    "circuit.barrier()\n",
    "circuit &= oracle(n, x)\n",
    "circuit.barrier()\n",
    "circuit &= diffusion(n, x)\n",
    "circuit.barrier()\n",
    "bits = [ i for i in range(n)]\n",
    "circuit.measure(bits, bits)\n",
    "circuit.draw()"
   ]
  },
  {
   "cell_type": "code",
   "execution_count": 66,
   "id": "489987f4",
   "metadata": {},
   "outputs": [
    {
     "name": "stdout",
     "output_type": "stream",
     "text": [
      "{'11': 1024}\n"
     ]
    },
    {
     "data": {
      "image/png": "[encoded data removed]",
      "text/plain": [
       "<Figure size 504x360 with 1 Axes>"
      ]
     },
     "execution_count": 66,
     "metadata": {},
     "output_type": "execute_result"
    }
   ],
   "source": [
    "backend = Aer.get_backend('qasm_simulator')\n",
    "result = execute(circuit, backend).result()\n",
    "counts = result.get_counts()\n",
    "print(counts)\n",
    "plot_histogram(counts)"
   ]
  }
 ],
 "metadata": {
  "kernelspec": {
   "display_name": "Python 3 (ipykernel)",
   "language": "python",
   "name": "python3"
  },
  "language_info": {
   "codemirror_mode": {
    "name": "ipython",
    "version": 3
   },
   "file_extension": ".py",
   "mimetype": "text/x-python",
   "name": "python",
   "nbconvert_exporter": "python",
   "pygments_lexer": "ipython3",
   "version": "3.7.11"
  }
 },
 "nbformat": 4,
 "nbformat_minor": 5
}
